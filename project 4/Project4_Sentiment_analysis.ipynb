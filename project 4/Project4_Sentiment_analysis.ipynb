{
  "nbformat": 4,
  "nbformat_minor": 0,
  "metadata": {
    "colab": {
      "provenance": [],
      "collapsed_sections": []
    },
    "kernelspec": {
      "name": "python3",
      "display_name": "Python 3"
    },
    "language_info": {
      "name": "python"
    }
  },
  "cells": [
    {
      "cell_type": "code",
      "execution_count": 226,
      "metadata": {
        "id": "uBnRxfO6KLiU"
      },
      "outputs": [],
      "source": []
    },
    {
      "cell_type": "code",
      "source": [
        "# Importing all necessery librarys\n",
        "import pandas as pd\n",
        "import numpy as np\n",
        "import seaborn as sns\n",
        "import matplotlib.pyplot as plt\n",
        "%matplotlib inline"
      ],
      "metadata": {
        "id": "ZPT0FwLCKRu1"
      },
      "execution_count": 227,
      "outputs": []
    },
    {
      "cell_type": "code",
      "source": [
        "#importing the dataset\n",
        "df=pd.read_excel(\"train.xlsx\")\n"
      ],
      "metadata": {
        "id": "sevy12M_KRx8"
      },
      "execution_count": 228,
      "outputs": []
    },
    {
      "cell_type": "markdown",
      "source": [
        "For my model i only consider the Positive and Negative Sentiments.\n",
        "And filter the Data in Excel accordingly. Due to facing some issues with google colab   "
      ],
      "metadata": {
        "id": "iF7cB6c-XGmT"
      }
    },
    {
      "cell_type": "code",
      "source": [
        "df.head()"
      ],
      "metadata": {
        "colab": {
          "base_uri": "https://localhost:8080/",
          "height": 206
        },
        "id": "F4Exv2kjKR0s",
        "outputId": "b925d7c9-04ee-423c-8e72-6f318d0f0ff2"
      },
      "execution_count": 229,
      "outputs": [
        {
          "output_type": "execute_result",
          "data": {
            "text/plain": [
              "   Sentiment                                            Reviews\n",
              "0          0               Enna da ellam avan seyal  Mari iruku\n",
              "1          0          This movei is just like  ellam avan seyal\n",
              "2          1   Padam vanthathum 13k dislike pottavaga yellam...\n",
              "3          1    Neraya neraya neraya... ... V era level...thala\n",
              "4          1   wow thavala sema mass....padam oru pundaikum ..."
            ],
            "text/html": [
              "\n",
              "  <div id=\"df-1bc85bae-6af3-425b-8733-dc014daf6e58\">\n",
              "    <div class=\"colab-df-container\">\n",
              "      <div>\n",
              "<style scoped>\n",
              "    .dataframe tbody tr th:only-of-type {\n",
              "        vertical-align: middle;\n",
              "    }\n",
              "\n",
              "    .dataframe tbody tr th {\n",
              "        vertical-align: top;\n",
              "    }\n",
              "\n",
              "    .dataframe thead th {\n",
              "        text-align: right;\n",
              "    }\n",
              "</style>\n",
              "<table border=\"1\" class=\"dataframe\">\n",
              "  <thead>\n",
              "    <tr style=\"text-align: right;\">\n",
              "      <th></th>\n",
              "      <th>Sentiment</th>\n",
              "      <th>Reviews</th>\n",
              "    </tr>\n",
              "  </thead>\n",
              "  <tbody>\n",
              "    <tr>\n",
              "      <th>0</th>\n",
              "      <td>0</td>\n",
              "      <td>Enna da ellam avan seyal  Mari iruku</td>\n",
              "    </tr>\n",
              "    <tr>\n",
              "      <th>1</th>\n",
              "      <td>0</td>\n",
              "      <td>This movei is just like  ellam avan seyal</td>\n",
              "    </tr>\n",
              "    <tr>\n",
              "      <th>2</th>\n",
              "      <td>1</td>\n",
              "      <td>Padam vanthathum 13k dislike pottavaga yellam...</td>\n",
              "    </tr>\n",
              "    <tr>\n",
              "      <th>3</th>\n",
              "      <td>1</td>\n",
              "      <td>Neraya neraya neraya... ... V era level...thala</td>\n",
              "    </tr>\n",
              "    <tr>\n",
              "      <th>4</th>\n",
              "      <td>1</td>\n",
              "      <td>wow thavala sema mass....padam oru pundaikum ...</td>\n",
              "    </tr>\n",
              "  </tbody>\n",
              "</table>\n",
              "</div>\n",
              "      <button class=\"colab-df-convert\" onclick=\"convertToInteractive('df-1bc85bae-6af3-425b-8733-dc014daf6e58')\"\n",
              "              title=\"Convert this dataframe to an interactive table.\"\n",
              "              style=\"display:none;\">\n",
              "        \n",
              "  <svg xmlns=\"http://www.w3.org/2000/svg\" height=\"24px\"viewBox=\"0 0 24 24\"\n",
              "       width=\"24px\">\n",
              "    <path d=\"M0 0h24v24H0V0z\" fill=\"none\"/>\n",
              "    <path d=\"M18.56 5.44l.94 2.06.94-2.06 2.06-.94-2.06-.94-.94-2.06-.94 2.06-2.06.94zm-11 1L8.5 8.5l.94-2.06 2.06-.94-2.06-.94L8.5 2.5l-.94 2.06-2.06.94zm10 10l.94 2.06.94-2.06 2.06-.94-2.06-.94-.94-2.06-.94 2.06-2.06.94z\"/><path d=\"M17.41 7.96l-1.37-1.37c-.4-.4-.92-.59-1.43-.59-.52 0-1.04.2-1.43.59L10.3 9.45l-7.72 7.72c-.78.78-.78 2.05 0 2.83L4 21.41c.39.39.9.59 1.41.59.51 0 1.02-.2 1.41-.59l7.78-7.78 2.81-2.81c.8-.78.8-2.07 0-2.86zM5.41 20L4 18.59l7.72-7.72 1.47 1.35L5.41 20z\"/>\n",
              "  </svg>\n",
              "      </button>\n",
              "      \n",
              "  <style>\n",
              "    .colab-df-container {\n",
              "      display:flex;\n",
              "      flex-wrap:wrap;\n",
              "      gap: 12px;\n",
              "    }\n",
              "\n",
              "    .colab-df-convert {\n",
              "      background-color: #E8F0FE;\n",
              "      border: none;\n",
              "      border-radius: 50%;\n",
              "      cursor: pointer;\n",
              "      display: none;\n",
              "      fill: #1967D2;\n",
              "      height: 32px;\n",
              "      padding: 0 0 0 0;\n",
              "      width: 32px;\n",
              "    }\n",
              "\n",
              "    .colab-df-convert:hover {\n",
              "      background-color: #E2EBFA;\n",
              "      box-shadow: 0px 1px 2px rgba(60, 64, 67, 0.3), 0px 1px 3px 1px rgba(60, 64, 67, 0.15);\n",
              "      fill: #174EA6;\n",
              "    }\n",
              "\n",
              "    [theme=dark] .colab-df-convert {\n",
              "      background-color: #3B4455;\n",
              "      fill: #D2E3FC;\n",
              "    }\n",
              "\n",
              "    [theme=dark] .colab-df-convert:hover {\n",
              "      background-color: #434B5C;\n",
              "      box-shadow: 0px 1px 3px 1px rgba(0, 0, 0, 0.15);\n",
              "      filter: drop-shadow(0px 1px 2px rgba(0, 0, 0, 0.3));\n",
              "      fill: #FFFFFF;\n",
              "    }\n",
              "  </style>\n",
              "\n",
              "      <script>\n",
              "        const buttonEl =\n",
              "          document.querySelector('#df-1bc85bae-6af3-425b-8733-dc014daf6e58 button.colab-df-convert');\n",
              "        buttonEl.style.display =\n",
              "          google.colab.kernel.accessAllowed ? 'block' : 'none';\n",
              "\n",
              "        async function convertToInteractive(key) {\n",
              "          const element = document.querySelector('#df-1bc85bae-6af3-425b-8733-dc014daf6e58');\n",
              "          const dataTable =\n",
              "            await google.colab.kernel.invokeFunction('convertToInteractive',\n",
              "                                                     [key], {});\n",
              "          if (!dataTable) return;\n",
              "\n",
              "          const docLinkHtml = 'Like what you see? Visit the ' +\n",
              "            '<a target=\"_blank\" href=https://colab.research.google.com/notebooks/data_table.ipynb>data table notebook</a>'\n",
              "            + ' to learn more about interactive tables.';\n",
              "          element.innerHTML = '';\n",
              "          dataTable['output_type'] = 'display_data';\n",
              "          await google.colab.output.renderOutput(dataTable, element);\n",
              "          const docLink = document.createElement('div');\n",
              "          docLink.innerHTML = docLinkHtml;\n",
              "          element.appendChild(docLink);\n",
              "        }\n",
              "      </script>\n",
              "    </div>\n",
              "  </div>\n",
              "  "
            ]
          },
          "metadata": {},
          "execution_count": 229
        }
      ]
    },
    {
      "cell_type": "code",
      "source": [],
      "metadata": {
        "id": "Rird7dB_KR3s"
      },
      "execution_count": 229,
      "outputs": []
    },
    {
      "cell_type": "code",
      "source": [],
      "metadata": {
        "id": "UEokeIq8KR60"
      },
      "execution_count": 229,
      "outputs": []
    },
    {
      "cell_type": "markdown",
      "source": [
        "\n",
        "> **1. EDA**\n",
        "\n",
        "\n",
        "\n",
        "---\n",
        "\n"
      ],
      "metadata": {
        "id": "eaLZUiMXVJt5"
      }
    },
    {
      "cell_type": "code",
      "source": [
        "df.describe()"
      ],
      "metadata": {
        "colab": {
          "base_uri": "https://localhost:8080/",
          "height": 300
        },
        "id": "s0wvlMpXKR9c",
        "outputId": "276a38c4-6b16-4548-e8b5-e7ff2829149b"
      },
      "execution_count": 230,
      "outputs": [
        {
          "output_type": "execute_result",
          "data": {
            "text/plain": [
              "          Sentiment\n",
              "count  12596.000000\n",
              "mean       0.838282\n",
              "std        0.368207\n",
              "min        0.000000\n",
              "25%        1.000000\n",
              "50%        1.000000\n",
              "75%        1.000000\n",
              "max        1.000000"
            ],
            "text/html": [
              "\n",
              "  <div id=\"df-acd8a8e0-b448-41aa-9deb-f08d936c896f\">\n",
              "    <div class=\"colab-df-container\">\n",
              "      <div>\n",
              "<style scoped>\n",
              "    .dataframe tbody tr th:only-of-type {\n",
              "        vertical-align: middle;\n",
              "    }\n",
              "\n",
              "    .dataframe tbody tr th {\n",
              "        vertical-align: top;\n",
              "    }\n",
              "\n",
              "    .dataframe thead th {\n",
              "        text-align: right;\n",
              "    }\n",
              "</style>\n",
              "<table border=\"1\" class=\"dataframe\">\n",
              "  <thead>\n",
              "    <tr style=\"text-align: right;\">\n",
              "      <th></th>\n",
              "      <th>Sentiment</th>\n",
              "    </tr>\n",
              "  </thead>\n",
              "  <tbody>\n",
              "    <tr>\n",
              "      <th>count</th>\n",
              "      <td>12596.000000</td>\n",
              "    </tr>\n",
              "    <tr>\n",
              "      <th>mean</th>\n",
              "      <td>0.838282</td>\n",
              "    </tr>\n",
              "    <tr>\n",
              "      <th>std</th>\n",
              "      <td>0.368207</td>\n",
              "    </tr>\n",
              "    <tr>\n",
              "      <th>min</th>\n",
              "      <td>0.000000</td>\n",
              "    </tr>\n",
              "    <tr>\n",
              "      <th>25%</th>\n",
              "      <td>1.000000</td>\n",
              "    </tr>\n",
              "    <tr>\n",
              "      <th>50%</th>\n",
              "      <td>1.000000</td>\n",
              "    </tr>\n",
              "    <tr>\n",
              "      <th>75%</th>\n",
              "      <td>1.000000</td>\n",
              "    </tr>\n",
              "    <tr>\n",
              "      <th>max</th>\n",
              "      <td>1.000000</td>\n",
              "    </tr>\n",
              "  </tbody>\n",
              "</table>\n",
              "</div>\n",
              "      <button class=\"colab-df-convert\" onclick=\"convertToInteractive('df-acd8a8e0-b448-41aa-9deb-f08d936c896f')\"\n",
              "              title=\"Convert this dataframe to an interactive table.\"\n",
              "              style=\"display:none;\">\n",
              "        \n",
              "  <svg xmlns=\"http://www.w3.org/2000/svg\" height=\"24px\"viewBox=\"0 0 24 24\"\n",
              "       width=\"24px\">\n",
              "    <path d=\"M0 0h24v24H0V0z\" fill=\"none\"/>\n",
              "    <path d=\"M18.56 5.44l.94 2.06.94-2.06 2.06-.94-2.06-.94-.94-2.06-.94 2.06-2.06.94zm-11 1L8.5 8.5l.94-2.06 2.06-.94-2.06-.94L8.5 2.5l-.94 2.06-2.06.94zm10 10l.94 2.06.94-2.06 2.06-.94-2.06-.94-.94-2.06-.94 2.06-2.06.94z\"/><path d=\"M17.41 7.96l-1.37-1.37c-.4-.4-.92-.59-1.43-.59-.52 0-1.04.2-1.43.59L10.3 9.45l-7.72 7.72c-.78.78-.78 2.05 0 2.83L4 21.41c.39.39.9.59 1.41.59.51 0 1.02-.2 1.41-.59l7.78-7.78 2.81-2.81c.8-.78.8-2.07 0-2.86zM5.41 20L4 18.59l7.72-7.72 1.47 1.35L5.41 20z\"/>\n",
              "  </svg>\n",
              "      </button>\n",
              "      \n",
              "  <style>\n",
              "    .colab-df-container {\n",
              "      display:flex;\n",
              "      flex-wrap:wrap;\n",
              "      gap: 12px;\n",
              "    }\n",
              "\n",
              "    .colab-df-convert {\n",
              "      background-color: #E8F0FE;\n",
              "      border: none;\n",
              "      border-radius: 50%;\n",
              "      cursor: pointer;\n",
              "      display: none;\n",
              "      fill: #1967D2;\n",
              "      height: 32px;\n",
              "      padding: 0 0 0 0;\n",
              "      width: 32px;\n",
              "    }\n",
              "\n",
              "    .colab-df-convert:hover {\n",
              "      background-color: #E2EBFA;\n",
              "      box-shadow: 0px 1px 2px rgba(60, 64, 67, 0.3), 0px 1px 3px 1px rgba(60, 64, 67, 0.15);\n",
              "      fill: #174EA6;\n",
              "    }\n",
              "\n",
              "    [theme=dark] .colab-df-convert {\n",
              "      background-color: #3B4455;\n",
              "      fill: #D2E3FC;\n",
              "    }\n",
              "\n",
              "    [theme=dark] .colab-df-convert:hover {\n",
              "      background-color: #434B5C;\n",
              "      box-shadow: 0px 1px 3px 1px rgba(0, 0, 0, 0.15);\n",
              "      filter: drop-shadow(0px 1px 2px rgba(0, 0, 0, 0.3));\n",
              "      fill: #FFFFFF;\n",
              "    }\n",
              "  </style>\n",
              "\n",
              "      <script>\n",
              "        const buttonEl =\n",
              "          document.querySelector('#df-acd8a8e0-b448-41aa-9deb-f08d936c896f button.colab-df-convert');\n",
              "        buttonEl.style.display =\n",
              "          google.colab.kernel.accessAllowed ? 'block' : 'none';\n",
              "\n",
              "        async function convertToInteractive(key) {\n",
              "          const element = document.querySelector('#df-acd8a8e0-b448-41aa-9deb-f08d936c896f');\n",
              "          const dataTable =\n",
              "            await google.colab.kernel.invokeFunction('convertToInteractive',\n",
              "                                                     [key], {});\n",
              "          if (!dataTable) return;\n",
              "\n",
              "          const docLinkHtml = 'Like what you see? Visit the ' +\n",
              "            '<a target=\"_blank\" href=https://colab.research.google.com/notebooks/data_table.ipynb>data table notebook</a>'\n",
              "            + ' to learn more about interactive tables.';\n",
              "          element.innerHTML = '';\n",
              "          dataTable['output_type'] = 'display_data';\n",
              "          await google.colab.output.renderOutput(dataTable, element);\n",
              "          const docLink = document.createElement('div');\n",
              "          docLink.innerHTML = docLinkHtml;\n",
              "          element.appendChild(docLink);\n",
              "        }\n",
              "      </script>\n",
              "    </div>\n",
              "  </div>\n",
              "  "
            ]
          },
          "metadata": {},
          "execution_count": 230
        }
      ]
    },
    {
      "cell_type": "code",
      "source": [
        "df.info()"
      ],
      "metadata": {
        "colab": {
          "base_uri": "https://localhost:8080/"
        },
        "id": "Mx8xxY5WKSAd",
        "outputId": "157527b5-5534-4660-9424-cbd79515f02d"
      },
      "execution_count": 231,
      "outputs": [
        {
          "output_type": "stream",
          "name": "stdout",
          "text": [
            "<class 'pandas.core.frame.DataFrame'>\n",
            "RangeIndex: 12596 entries, 0 to 12595\n",
            "Data columns (total 2 columns):\n",
            " #   Column     Non-Null Count  Dtype \n",
            "---  ------     --------------  ----- \n",
            " 0   Sentiment  12596 non-null  int64 \n",
            " 1   Reviews    12596 non-null  object\n",
            "dtypes: int64(1), object(1)\n",
            "memory usage: 196.9+ KB\n"
          ]
        }
      ]
    },
    {
      "cell_type": "code",
      "source": [
        "df['Sentiment'].value_counts()"
      ],
      "metadata": {
        "colab": {
          "base_uri": "https://localhost:8080/"
        },
        "id": "Z26ftyoaKSDc",
        "outputId": "0b3ef707-39af-473f-98ea-b45d3bb8c79a"
      },
      "execution_count": 232,
      "outputs": [
        {
          "output_type": "execute_result",
          "data": {
            "text/plain": [
              "1    10559\n",
              "0     2037\n",
              "Name: Sentiment, dtype: int64"
            ]
          },
          "metadata": {},
          "execution_count": 232
        }
      ]
    },
    {
      "cell_type": "code",
      "source": [
        "sns.countplot(x=df['Sentiment']);\n",
        "plt.title(\"Countplot: Positive = 1, Negative = 0\");"
      ],
      "metadata": {
        "colab": {
          "base_uri": "https://localhost:8080/",
          "height": 295
        },
        "id": "Q5FYGOAmKSGP",
        "outputId": "3420105f-2029-47fe-c8d1-2ef8b01a9097"
      },
      "execution_count": 233,
      "outputs": [
        {
          "output_type": "display_data",
          "data": {
            "text/plain": [
              "<Figure size 432x288 with 1 Axes>"
            ],
            "image/png": "[encoded data removed]"
          },
          "metadata": {
            "needs_background": "light"
          }
        }
      ]
    },
    {
      "cell_type": "code",
      "source": [],
      "metadata": {
        "id": "MbUyXSPlSi2t"
      },
      "execution_count": 233,
      "outputs": []
    },
    {
      "cell_type": "code",
      "source": [
        "df.head()"
      ],
      "metadata": {
        "colab": {
          "base_uri": "https://localhost:8080/",
          "height": 206
        },
        "id": "rr7qHJc6S6B8",
        "outputId": "0eea6ea1-b041-4d15-8b0c-000d5316d1d9"
      },
      "execution_count": 234,
      "outputs": [
        {
          "output_type": "execute_result",
          "data": {
            "text/plain": [
              "   Sentiment                                            Reviews\n",
              "0          0               Enna da ellam avan seyal  Mari iruku\n",
              "1          0          This movei is just like  ellam avan seyal\n",
              "2          1   Padam vanthathum 13k dislike pottavaga yellam...\n",
              "3          1    Neraya neraya neraya... ... V era level...thala\n",
              "4          1   wow thavala sema mass....padam oru pundaikum ..."
            ],
            "text/html": [
              "\n",
              "  <div id=\"df-3fc1615a-f199-47c7-99f5-a1a6ba0b40ec\">\n",
              "    <div class=\"colab-df-container\">\n",
              "      <div>\n",
              "<style scoped>\n",
              "    .dataframe tbody tr th:only-of-type {\n",
              "        vertical-align: middle;\n",
              "    }\n",
              "\n",
              "    .dataframe tbody tr th {\n",
              "        vertical-align: top;\n",
              "    }\n",
              "\n",
              "    .dataframe thead th {\n",
              "        text-align: right;\n",
              "    }\n",
              "</style>\n",
              "<table border=\"1\" class=\"dataframe\">\n",
              "  <thead>\n",
              "    <tr style=\"text-align: right;\">\n",
              "      <th></th>\n",
              "      <th>Sentiment</th>\n",
              "      <th>Reviews</th>\n",
              "    </tr>\n",
              "  </thead>\n",
              "  <tbody>\n",
              "    <tr>\n",
              "      <th>0</th>\n",
              "      <td>0</td>\n",
              "      <td>Enna da ellam avan seyal  Mari iruku</td>\n",
              "    </tr>\n",
              "    <tr>\n",
              "      <th>1</th>\n",
              "      <td>0</td>\n",
              "      <td>This movei is just like  ellam avan seyal</td>\n",
              "    </tr>\n",
              "    <tr>\n",
              "      <th>2</th>\n",
              "      <td>1</td>\n",
              "      <td>Padam vanthathum 13k dislike pottavaga yellam...</td>\n",
              "    </tr>\n",
              "    <tr>\n",
              "      <th>3</th>\n",
              "      <td>1</td>\n",
              "      <td>Neraya neraya neraya... ... V era level...thala</td>\n",
              "    </tr>\n",
              "    <tr>\n",
              "      <th>4</th>\n",
              "      <td>1</td>\n",
              "      <td>wow thavala sema mass....padam oru pundaikum ...</td>\n",
              "    </tr>\n",
              "  </tbody>\n",
              "</table>\n",
              "</div>\n",
              "      <button class=\"colab-df-convert\" onclick=\"convertToInteractive('df-3fc1615a-f199-47c7-99f5-a1a6ba0b40ec')\"\n",
              "              title=\"Convert this dataframe to an interactive table.\"\n",
              "              style=\"display:none;\">\n",
              "        \n",
              "  <svg xmlns=\"http://www.w3.org/2000/svg\" height=\"24px\"viewBox=\"0 0 24 24\"\n",
              "       width=\"24px\">\n",
              "    <path d=\"M0 0h24v24H0V0z\" fill=\"none\"/>\n",
              "    <path d=\"M18.56 5.44l.94 2.06.94-2.06 2.06-.94-2.06-.94-.94-2.06-.94 2.06-2.06.94zm-11 1L8.5 8.5l.94-2.06 2.06-.94-2.06-.94L8.5 2.5l-.94 2.06-2.06.94zm10 10l.94 2.06.94-2.06 2.06-.94-2.06-.94-.94-2.06-.94 2.06-2.06.94z\"/><path d=\"M17.41 7.96l-1.37-1.37c-.4-.4-.92-.59-1.43-.59-.52 0-1.04.2-1.43.59L10.3 9.45l-7.72 7.72c-.78.78-.78 2.05 0 2.83L4 21.41c.39.39.9.59 1.41.59.51 0 1.02-.2 1.41-.59l7.78-7.78 2.81-2.81c.8-.78.8-2.07 0-2.86zM5.41 20L4 18.59l7.72-7.72 1.47 1.35L5.41 20z\"/>\n",
              "  </svg>\n",
              "      </button>\n",
              "      \n",
              "  <style>\n",
              "    .colab-df-container {\n",
              "      display:flex;\n",
              "      flex-wrap:wrap;\n",
              "      gap: 12px;\n",
              "    }\n",
              "\n",
              "    .colab-df-convert {\n",
              "      background-color: #E8F0FE;\n",
              "      border: none;\n",
              "      border-radius: 50%;\n",
              "      cursor: pointer;\n",
              "      display: none;\n",
              "      fill: #1967D2;\n",
              "      height: 32px;\n",
              "      padding: 0 0 0 0;\n",
              "      width: 32px;\n",
              "    }\n",
              "\n",
              "    .colab-df-convert:hover {\n",
              "      background-color: #E2EBFA;\n",
              "      box-shadow: 0px 1px 2px rgba(60, 64, 67, 0.3), 0px 1px 3px 1px rgba(60, 64, 67, 0.15);\n",
              "      fill: #174EA6;\n",
              "    }\n",
              "\n",
              "    [theme=dark] .colab-df-convert {\n",
              "      background-color: #3B4455;\n",
              "      fill: #D2E3FC;\n",
              "    }\n",
              "\n",
              "    [theme=dark] .colab-df-convert:hover {\n",
              "      background-color: #434B5C;\n",
              "      box-shadow: 0px 1px 3px 1px rgba(0, 0, 0, 0.15);\n",
              "      filter: drop-shadow(0px 1px 2px rgba(0, 0, 0, 0.3));\n",
              "      fill: #FFFFFF;\n",
              "    }\n",
              "  </style>\n",
              "\n",
              "      <script>\n",
              "        const buttonEl =\n",
              "          document.querySelector('#df-3fc1615a-f199-47c7-99f5-a1a6ba0b40ec button.colab-df-convert');\n",
              "        buttonEl.style.display =\n",
              "          google.colab.kernel.accessAllowed ? 'block' : 'none';\n",
              "\n",
              "        async function convertToInteractive(key) {\n",
              "          const element = document.querySelector('#df-3fc1615a-f199-47c7-99f5-a1a6ba0b40ec');\n",
              "          const dataTable =\n",
              "            await google.colab.kernel.invokeFunction('convertToInteractive',\n",
              "                                                     [key], {});\n",
              "          if (!dataTable) return;\n",
              "\n",
              "          const docLinkHtml = 'Like what you see? Visit the ' +\n",
              "            '<a target=\"_blank\" href=https://colab.research.google.com/notebooks/data_table.ipynb>data table notebook</a>'\n",
              "            + ' to learn more about interactive tables.';\n",
              "          element.innerHTML = '';\n",
              "          dataTable['output_type'] = 'display_data';\n",
              "          await google.colab.output.renderOutput(dataTable, element);\n",
              "          const docLink = document.createElement('div');\n",
              "          docLink.innerHTML = docLinkHtml;\n",
              "          element.appendChild(docLink);\n",
              "        }\n",
              "      </script>\n",
              "    </div>\n",
              "  </div>\n",
              "  "
            ]
          },
          "metadata": {},
          "execution_count": 234
        }
      ]
    },
    {
      "cell_type": "code",
      "source": [],
      "metadata": {
        "id": "74e5IlfJPyOO"
      },
      "execution_count": 234,
      "outputs": []
    },
    {
      "cell_type": "code",
      "source": [],
      "metadata": {
        "id": "oXebIy7rjjou"
      },
      "execution_count": 234,
      "outputs": []
    },
    {
      "cell_type": "markdown",
      "source": [
        "**DATA Preprocessing**"
      ],
      "metadata": {
        "id": "fjX_mwh9yUkk"
      }
    },
    {
      "cell_type": "code",
      "source": [
        "# cleaning the Data."
      ],
      "metadata": {
        "id": "3YfZWW2MyTU9"
      },
      "execution_count": 235,
      "outputs": []
    },
    {
      "cell_type": "code",
      "source": [
        "import re"
      ],
      "metadata": {
        "id": "3nJejgVGyAXD"
      },
      "execution_count": 236,
      "outputs": []
    },
    {
      "cell_type": "code",
      "source": [
        "# Code for removing non ascii characters (Tamil unicode) from the reviews\n",
        "def non_ascii(text):\n",
        "    text=text.lower()\n",
        "    text=re.sub(r'[^\\x00-\\x7f]',\"\",text)\n",
        "    return text"
      ],
      "metadata": {
        "id": "4eU5qjvcyTsr"
      },
      "execution_count": 237,
      "outputs": []
    },
    {
      "cell_type": "code",
      "source": [
        "df['Reviews']=df['Reviews'].apply(non_ascii)"
      ],
      "metadata": {
        "id": "-hQ1oWCB-QQA"
      },
      "execution_count": 238,
      "outputs": []
    },
    {
      "cell_type": "code",
      "source": [
        "#df.to_excel('new_train1.xlsx')"
      ],
      "metadata": {
        "id": "sQT3s_sM-QS3"
      },
      "execution_count": 239,
      "outputs": []
    },
    {
      "cell_type": "code",
      "source": [],
      "metadata": {
        "id": "5F2MwZw3x7ei"
      },
      "execution_count": 239,
      "outputs": []
    },
    {
      "cell_type": "code",
      "source": [
        "# To remove the non alphanumeric characters\n",
        "def remove_unwanted(text):\n",
        "    x=''\n",
        "    for i in text:\n",
        "        if i.isalpha():\n",
        "            x=x+i\n",
        "        else:\n",
        "            x=x+' '\n",
        "    return x"
      ],
      "metadata": {
        "id": "uIL9WkdTx7kS"
      },
      "execution_count": 240,
      "outputs": []
    },
    {
      "cell_type": "code",
      "source": [
        "df['Reviews']=df['Reviews'].apply(remove_unwanted)"
      ],
      "metadata": {
        "id": "fP-QqzpD27jg"
      },
      "execution_count": 241,
      "outputs": []
    },
    {
      "cell_type": "code",
      "source": [
        "#df.to_excel('new_train2.xlsx')"
      ],
      "metadata": {
        "id": "p-fPX7Cd27vB"
      },
      "execution_count": 242,
      "outputs": []
    },
    {
      "cell_type": "code",
      "source": [
        "# To remove extra spaces\n",
        "def remove_spaces(text):\n",
        "    text = re.sub(' +', ' ', text)\n",
        "    return text"
      ],
      "metadata": {
        "id": "sVKU804T-QYK"
      },
      "execution_count": 243,
      "outputs": []
    },
    {
      "cell_type": "code",
      "source": [
        "df['Reviews']=df['Reviews'].apply(remove_spaces)"
      ],
      "metadata": {
        "id": "MxyM28DD09K3"
      },
      "execution_count": 244,
      "outputs": []
    },
    {
      "cell_type": "code",
      "source": [
        "#df.to_excel('new_train3.xlsx')"
      ],
      "metadata": {
        "id": "rZeMa5hQ09N_"
      },
      "execution_count": 245,
      "outputs": []
    },
    {
      "cell_type": "code",
      "source": [
        "import nltk\n",
        "nltk.download('punkt')\n",
        "from nltk.corpus import stopwords"
      ],
      "metadata": {
        "id": "UOsATh4t6FIh",
        "colab": {
          "base_uri": "https://localhost:8080/"
        },
        "outputId": "fd1c7e50-cc98-4e05-cb08-46e7123e62f6"
      },
      "execution_count": 246,
      "outputs": [
        {
          "output_type": "stream",
          "name": "stderr",
          "text": [
            "[nltk_data] Downloading package punkt to /root/nltk_data...\n",
            "[nltk_data]   Package punkt is already up-to-date!\n"
          ]
        }
      ]
    },
    {
      "cell_type": "code",
      "source": [
        "# To convert into tokens\n",
        "def word_tokenize(text):\n",
        "    text=nltk.word_tokenize(text)\n",
        "    return text"
      ],
      "metadata": {
        "id": "SAsKc_R_09Qv"
      },
      "execution_count": 247,
      "outputs": []
    },
    {
      "cell_type": "code",
      "source": [
        "df['Reviews']=df['Reviews'].apply(word_tokenize)"
      ],
      "metadata": {
        "id": "chu_oMLG09ZH"
      },
      "execution_count": 248,
      "outputs": []
    },
    {
      "cell_type": "code",
      "source": [
        "#df.to_excel('new_train4.xlsx')"
      ],
      "metadata": {
        "id": "gOL0IsV6-LRA"
      },
      "execution_count": 249,
      "outputs": []
    },
    {
      "cell_type": "code",
      "source": [
        "# Function to remove consecutive duplicates \n",
        "def remove_duplicate(List):\n",
        "    list1=[]\n",
        "    len1=len(List)\n",
        "    for i in range(len1):\n",
        "        temp=List[i]\n",
        "        t=''\n",
        "        for j in temp:\n",
        "            if(t=='' or j!=t[len(t)-1]):\n",
        "                t=t+j\n",
        "        list1.append(t)\n",
        "    return list1\n",
        "            \n"
      ],
      "metadata": {
        "id": "kH_cWWMeVD7V"
      },
      "execution_count": 250,
      "outputs": []
    },
    {
      "cell_type": "code",
      "source": [
        "remove_duplicate(['vera', 'lvl', 'thala', 'sammaaaaaaaaaaaaa', 'bgm', 'sammaya','fooor'])"
      ],
      "metadata": {
        "id": "HTS2rRNEVD9-",
        "colab": {
          "base_uri": "https://localhost:8080/"
        },
        "outputId": "992b2ceb-8e37-4ace-f4e4-7c27f0723246"
      },
      "execution_count": 251,
      "outputs": [
        {
          "output_type": "execute_result",
          "data": {
            "text/plain": [
              "['vera', 'lvl', 'thala', 'sama', 'bgm', 'samaya', 'for']"
            ]
          },
          "metadata": {},
          "execution_count": 251
        }
      ]
    },
    {
      "cell_type": "code",
      "source": [
        "df['Reviews']=df['Reviews'].apply(remove_duplicate)\n",
        "df['Reviews_new']=df['Reviews'].apply(remove_duplicate)"
      ],
      "metadata": {
        "id": "wfW1aDBwNwx1"
      },
      "execution_count": 252,
      "outputs": []
    },
    {
      "cell_type": "code",
      "source": [
        "df.head(1)"
      ],
      "metadata": {
        "colab": {
          "base_uri": "https://localhost:8080/",
          "height": 81
        },
        "id": "4CwJxHACbA5-",
        "outputId": "dc78f83b-8cb0-4ad7-a366-241023834131"
      },
      "execution_count": 253,
      "outputs": [
        {
          "output_type": "execute_result",
          "data": {
            "text/plain": [
              "   Sentiment                                    Reviews  \\\n",
              "0          0  [ena, da, elam, avan, seyal, mari, iruku]   \n",
              "\n",
              "                                 Reviews_new  \n",
              "0  [ena, da, elam, avan, seyal, mari, iruku]  "
            ],
            "text/html": [
              "\n",
              "  <div id=\"df-556dbf1c-40a7-458a-9adf-5e1921ef2b60\">\n",
              "    <div class=\"colab-df-container\">\n",
              "      <div>\n",
              "<style scoped>\n",
              "    .dataframe tbody tr th:only-of-type {\n",
              "        vertical-align: middle;\n",
              "    }\n",
              "\n",
              "    .dataframe tbody tr th {\n",
              "        vertical-align: top;\n",
              "    }\n",
              "\n",
              "    .dataframe thead th {\n",
              "        text-align: right;\n",
              "    }\n",
              "</style>\n",
              "<table border=\"1\" class=\"dataframe\">\n",
              "  <thead>\n",
              "    <tr style=\"text-align: right;\">\n",
              "      <th></th>\n",
              "      <th>Sentiment</th>\n",
              "      <th>Reviews</th>\n",
              "      <th>Reviews_new</th>\n",
              "    </tr>\n",
              "  </thead>\n",
              "  <tbody>\n",
              "    <tr>\n",
              "      <th>0</th>\n",
              "      <td>0</td>\n",
              "      <td>[ena, da, elam, avan, seyal, mari, iruku]</td>\n",
              "      <td>[ena, da, elam, avan, seyal, mari, iruku]</td>\n",
              "    </tr>\n",
              "  </tbody>\n",
              "</table>\n",
              "</div>\n",
              "      <button class=\"colab-df-convert\" onclick=\"convertToInteractive('df-556dbf1c-40a7-458a-9adf-5e1921ef2b60')\"\n",
              "              title=\"Convert this dataframe to an interactive table.\"\n",
              "              style=\"display:none;\">\n",
              "        \n",
              "  <svg xmlns=\"http://www.w3.org/2000/svg\" height=\"24px\"viewBox=\"0 0 24 24\"\n",
              "       width=\"24px\">\n",
              "    <path d=\"M0 0h24v24H0V0z\" fill=\"none\"/>\n",
              "    <path d=\"M18.56 5.44l.94 2.06.94-2.06 2.06-.94-2.06-.94-.94-2.06-.94 2.06-2.06.94zm-11 1L8.5 8.5l.94-2.06 2.06-.94-2.06-.94L8.5 2.5l-.94 2.06-2.06.94zm10 10l.94 2.06.94-2.06 2.06-.94-2.06-.94-.94-2.06-.94 2.06-2.06.94z\"/><path d=\"M17.41 7.96l-1.37-1.37c-.4-.4-.92-.59-1.43-.59-.52 0-1.04.2-1.43.59L10.3 9.45l-7.72 7.72c-.78.78-.78 2.05 0 2.83L4 21.41c.39.39.9.59 1.41.59.51 0 1.02-.2 1.41-.59l7.78-7.78 2.81-2.81c.8-.78.8-2.07 0-2.86zM5.41 20L4 18.59l7.72-7.72 1.47 1.35L5.41 20z\"/>\n",
              "  </svg>\n",
              "      </button>\n",
              "      \n",
              "  <style>\n",
              "    .colab-df-container {\n",
              "      display:flex;\n",
              "      flex-wrap:wrap;\n",
              "      gap: 12px;\n",
              "    }\n",
              "\n",
              "    .colab-df-convert {\n",
              "      background-color: #E8F0FE;\n",
              "      border: none;\n",
              "      border-radius: 50%;\n",
              "      cursor: pointer;\n",
              "      display: none;\n",
              "      fill: #1967D2;\n",
              "      height: 32px;\n",
              "      padding: 0 0 0 0;\n",
              "      width: 32px;\n",
              "    }\n",
              "\n",
              "    .colab-df-convert:hover {\n",
              "      background-color: #E2EBFA;\n",
              "      box-shadow: 0px 1px 2px rgba(60, 64, 67, 0.3), 0px 1px 3px 1px rgba(60, 64, 67, 0.15);\n",
              "      fill: #174EA6;\n",
              "    }\n",
              "\n",
              "    [theme=dark] .colab-df-convert {\n",
              "      background-color: #3B4455;\n",
              "      fill: #D2E3FC;\n",
              "    }\n",
              "\n",
              "    [theme=dark] .colab-df-convert:hover {\n",
              "      background-color: #434B5C;\n",
              "      box-shadow: 0px 1px 3px 1px rgba(0, 0, 0, 0.15);\n",
              "      filter: drop-shadow(0px 1px 2px rgba(0, 0, 0, 0.3));\n",
              "      fill: #FFFFFF;\n",
              "    }\n",
              "  </style>\n",
              "\n",
              "      <script>\n",
              "        const buttonEl =\n",
              "          document.querySelector('#df-556dbf1c-40a7-458a-9adf-5e1921ef2b60 button.colab-df-convert');\n",
              "        buttonEl.style.display =\n",
              "          google.colab.kernel.accessAllowed ? 'block' : 'none';\n",
              "\n",
              "        async function convertToInteractive(key) {\n",
              "          const element = document.querySelector('#df-556dbf1c-40a7-458a-9adf-5e1921ef2b60');\n",
              "          const dataTable =\n",
              "            await google.colab.kernel.invokeFunction('convertToInteractive',\n",
              "                                                     [key], {});\n",
              "          if (!dataTable) return;\n",
              "\n",
              "          const docLinkHtml = 'Like what you see? Visit the ' +\n",
              "            '<a target=\"_blank\" href=https://colab.research.google.com/notebooks/data_table.ipynb>data table notebook</a>'\n",
              "            + ' to learn more about interactive tables.';\n",
              "          element.innerHTML = '';\n",
              "          dataTable['output_type'] = 'display_data';\n",
              "          await google.colab.output.renderOutput(dataTable, element);\n",
              "          const docLink = document.createElement('div');\n",
              "          docLink.innerHTML = docLinkHtml;\n",
              "          element.appendChild(docLink);\n",
              "        }\n",
              "      </script>\n",
              "    </div>\n",
              "  </div>\n",
              "  "
            ]
          },
          "metadata": {},
          "execution_count": 253
        }
      ]
    },
    {
      "cell_type": "code",
      "source": [
        "#df.to_excel('new_train5.xlsx')"
      ],
      "metadata": {
        "id": "G1Ze1a6YNw3e"
      },
      "execution_count": 254,
      "outputs": []
    },
    {
      "cell_type": "code",
      "source": [
        "def list_to_string(List):\n",
        "    temp=\" \".join(List)\n",
        "    return temp"
      ],
      "metadata": {
        "id": "iuBzfp6MYcSj"
      },
      "execution_count": 255,
      "outputs": []
    },
    {
      "cell_type": "code",
      "source": [
        "list_to_string(['vera', 'lvl', 'thala', 'sama', 'bgm', 'samaya', 'for'])"
      ],
      "metadata": {
        "colab": {
          "base_uri": "https://localhost:8080/",
          "height": 35
        },
        "id": "2dYcXp-6eJ5u",
        "outputId": "6fa83cb9-727c-4875-ffb8-39de72b931e0"
      },
      "execution_count": 256,
      "outputs": [
        {
          "output_type": "execute_result",
          "data": {
            "text/plain": [
              "'vera lvl thala sama bgm samaya for'"
            ],
            "application/vnd.google.colaboratory.intrinsic+json": {
              "type": "string"
            }
          },
          "metadata": {},
          "execution_count": 256
        }
      ]
    },
    {
      "cell_type": "code",
      "source": [
        "df['Reviews']=df['Reviews'].apply(list_to_string)"
      ],
      "metadata": {
        "id": "hBI4Zd_reJ8V"
      },
      "execution_count": 257,
      "outputs": []
    },
    {
      "cell_type": "code",
      "source": [],
      "metadata": {
        "id": "cdYAgq-2AQeR"
      },
      "execution_count": 257,
      "outputs": []
    },
    {
      "cell_type": "markdown",
      "source": [
        "**Sampling**"
      ],
      "metadata": {
        "id": "yGqMbOPKsx7U"
      }
    },
    {
      "cell_type": "code",
      "source": [
        "#pip install imblearn"
      ],
      "metadata": {
        "id": "OXz8gYZxsxM1"
      },
      "execution_count": 258,
      "outputs": []
    },
    {
      "cell_type": "code",
      "source": [
        "#from imblearn.over_sampling import RandomOverSampler"
      ],
      "metadata": {
        "id": "7eO5J2nxs1f1"
      },
      "execution_count": 259,
      "outputs": []
    },
    {
      "cell_type": "code",
      "source": [
        "#ros = RandomOverSampler(random_state=0)"
      ],
      "metadata": {
        "id": "wn1cPbzns1iy"
      },
      "execution_count": 260,
      "outputs": []
    },
    {
      "cell_type": "code",
      "source": [
        "#x_ros,y_ros=ros.fit_resample(x,y)"
      ],
      "metadata": {
        "id": "Hx0if4EOs1ly"
      },
      "execution_count": 261,
      "outputs": []
    },
    {
      "cell_type": "code",
      "source": [],
      "metadata": {
        "id": "u0WSPTaPsxSk"
      },
      "execution_count": 261,
      "outputs": []
    },
    {
      "cell_type": "code",
      "source": [],
      "metadata": {
        "id": "U0_K8TgxeJ_g"
      },
      "execution_count": 261,
      "outputs": []
    },
    {
      "cell_type": "markdown",
      "source": [
        "**Segregeting dependent and independent features**"
      ],
      "metadata": {
        "id": "EFkRxYTJsq90"
      }
    },
    {
      "cell_type": "code",
      "source": [
        "x=df['Reviews']\n",
        "x_new=df['Reviews_new']"
      ],
      "metadata": {
        "id": "jBUQ1CrEsgx4"
      },
      "execution_count": 262,
      "outputs": []
    },
    {
      "cell_type": "code",
      "source": [
        "x.shape"
      ],
      "metadata": {
        "colab": {
          "base_uri": "https://localhost:8080/"
        },
        "id": "u17G0RAdBx3P",
        "outputId": "ce15db89-9acb-4103-ca55-44ee62e8e9ed"
      },
      "execution_count": 263,
      "outputs": [
        {
          "output_type": "execute_result",
          "data": {
            "text/plain": [
              "(12596,)"
            ]
          },
          "metadata": {},
          "execution_count": 263
        }
      ]
    },
    {
      "cell_type": "code",
      "source": [
        "y=df['Sentiment']"
      ],
      "metadata": {
        "id": "Qk_LiEUks4fw"
      },
      "execution_count": 264,
      "outputs": []
    },
    {
      "cell_type": "code",
      "source": [
        "y.shape"
      ],
      "metadata": {
        "colab": {
          "base_uri": "https://localhost:8080/"
        },
        "id": "dyk812SjB1Yt",
        "outputId": "91e3c707-d442-4e53-a981-db5b425d64e6"
      },
      "execution_count": 265,
      "outputs": [
        {
          "output_type": "execute_result",
          "data": {
            "text/plain": [
              "(12596,)"
            ]
          },
          "metadata": {},
          "execution_count": 265
        }
      ]
    },
    {
      "cell_type": "code",
      "source": [
        "x.head()"
      ],
      "metadata": {
        "colab": {
          "base_uri": "https://localhost:8080/"
        },
        "id": "QS4AVtRBs4iX",
        "outputId": "fa22c96a-79dc-4615-962e-389b822ac12d"
      },
      "execution_count": 266,
      "outputs": [
        {
          "output_type": "execute_result",
          "data": {
            "text/plain": [
              "0                    ena da elam avan seyal mari iruku\n",
              "1              this movei is just like elam avan seyal\n",
              "2    padam vanthathum k dislike potavaga yelam yea ...\n",
              "3               neraya neraya neraya v era level thala\n",
              "4      wow thavala sema mas padam oru pundaikum agathu\n",
              "Name: Reviews, dtype: object"
            ]
          },
          "metadata": {},
          "execution_count": 266
        }
      ]
    },
    {
      "cell_type": "code",
      "source": [],
      "metadata": {
        "id": "wY7qt2AQta3Q"
      },
      "execution_count": 266,
      "outputs": []
    },
    {
      "cell_type": "markdown",
      "source": [
        "**Spliting the Dataset into Train and Test**"
      ],
      "metadata": {
        "id": "B9mHcy9xiUbT"
      }
    },
    {
      "cell_type": "code",
      "source": [
        "from sklearn.model_selection import train_test_split"
      ],
      "metadata": {
        "id": "cRyvbaCvcQ4C"
      },
      "execution_count": 267,
      "outputs": []
    },
    {
      "cell_type": "code",
      "source": [
        "x_train,x_test,y_train,y_test=train_test_split(x,y,test_size=0.3,random_state=1)"
      ],
      "metadata": {
        "id": "amFCbGlhcQ6P"
      },
      "execution_count": 268,
      "outputs": []
    },
    {
      "cell_type": "code",
      "source": [
        "x_train_new,x_test_new,y_train_new,y_test_new=train_test_split(x_new,y,test_size=0.3,random_state=1)"
      ],
      "metadata": {
        "id": "ZCnXSTUHcQ9R"
      },
      "execution_count": 269,
      "outputs": []
    },
    {
      "cell_type": "code",
      "source": [
        "x_train.shape,x_test.shape"
      ],
      "metadata": {
        "colab": {
          "base_uri": "https://localhost:8080/"
        },
        "id": "uFFhTj78_40A",
        "outputId": "409e8592-8f4f-42fd-8f46-2b1525f1d4e3"
      },
      "execution_count": 270,
      "outputs": [
        {
          "output_type": "execute_result",
          "data": {
            "text/plain": [
              "((8817,), (3779,))"
            ]
          },
          "metadata": {},
          "execution_count": 270
        }
      ]
    },
    {
      "cell_type": "code",
      "source": [
        "y_train.value_counts()"
      ],
      "metadata": {
        "colab": {
          "base_uri": "https://localhost:8080/"
        },
        "id": "Y2mBgmYLJQH4",
        "outputId": "8e9f3cd0-7df4-4314-93ba-ad1eb0fea584"
      },
      "execution_count": 271,
      "outputs": [
        {
          "output_type": "execute_result",
          "data": {
            "text/plain": [
              "1    7381\n",
              "0    1436\n",
              "Name: Sentiment, dtype: int64"
            ]
          },
          "metadata": {},
          "execution_count": 271
        }
      ]
    },
    {
      "cell_type": "code",
      "source": [
        "y_test.value_counts()"
      ],
      "metadata": {
        "colab": {
          "base_uri": "https://localhost:8080/"
        },
        "id": "VwHXZheAJii7",
        "outputId": "d79b9bec-a46a-46fc-912b-cbb3d1f77b66"
      },
      "execution_count": 272,
      "outputs": [
        {
          "output_type": "execute_result",
          "data": {
            "text/plain": [
              "1    3178\n",
              "0     601\n",
              "Name: Sentiment, dtype: int64"
            ]
          },
          "metadata": {},
          "execution_count": 272
        }
      ]
    },
    {
      "cell_type": "code",
      "source": [
        "y_train.shape,y_test.shape"
      ],
      "metadata": {
        "colab": {
          "base_uri": "https://localhost:8080/"
        },
        "id": "fYCbXMM9BOAp",
        "outputId": "0675935b-13f7-4417-b29f-c5b26dffa42d"
      },
      "execution_count": 273,
      "outputs": [
        {
          "output_type": "execute_result",
          "data": {
            "text/plain": [
              "((8817,), (3779,))"
            ]
          },
          "metadata": {},
          "execution_count": 273
        }
      ]
    },
    {
      "cell_type": "markdown",
      "source": [
        "\n",
        "> **2. Vectorization(Bag of Words, TF-IDF, Word2vec)**\n",
        "\n",
        "\n",
        "\n",
        "---\n",
        "\n"
      ],
      "metadata": {
        "id": "rzftk9CmwFMn"
      }
    },
    {
      "cell_type": "markdown",
      "source": [
        "Bag of Words"
      ],
      "metadata": {
        "id": "L5dYnl6tBY-k"
      }
    },
    {
      "cell_type": "code",
      "source": [
        "from sklearn.feature_extraction.text import CountVectorizer"
      ],
      "metadata": {
        "id": "4ETj9hv4KSXd"
      },
      "execution_count": 274,
      "outputs": []
    },
    {
      "cell_type": "code",
      "source": [
        "bow_vectorizer=CountVectorizer(stop_words='english', lowercase=False, preprocessor=None, tokenizer=None)"
      ],
      "metadata": {
        "id": "uDuiMd7OKSaX"
      },
      "execution_count": 275,
      "outputs": []
    },
    {
      "cell_type": "code",
      "source": [
        "bag_of_words=bow_vectorizer.fit_transform(x_train).toarray()"
      ],
      "metadata": {
        "id": "dUvm0Knsw9Mk"
      },
      "execution_count": 276,
      "outputs": []
    },
    {
      "cell_type": "code",
      "source": [
        "bag_of_words.shape"
      ],
      "metadata": {
        "id": "aWtqMtDtw9Pc",
        "colab": {
          "base_uri": "https://localhost:8080/"
        },
        "outputId": "3974bc43-0a31-4a27-d9ce-078324310eab"
      },
      "execution_count": 277,
      "outputs": [
        {
          "output_type": "execute_result",
          "data": {
            "text/plain": [
              "(8817, 12178)"
            ]
          },
          "metadata": {},
          "execution_count": 277
        }
      ]
    },
    {
      "cell_type": "code",
      "source": [
        "print(bag_of_words)"
      ],
      "metadata": {
        "id": "sh1VCU90w9cc",
        "colab": {
          "base_uri": "https://localhost:8080/"
        },
        "outputId": "30d2dc25-3198-49a7-ac91-0c3ea7a927f6"
      },
      "execution_count": 278,
      "outputs": [
        {
          "output_type": "stream",
          "name": "stdout",
          "text": [
            "[[0 0 0 ... 0 0 0]\n",
            " [0 0 0 ... 0 0 0]\n",
            " [0 0 0 ... 0 0 0]\n",
            " ...\n",
            " [0 0 0 ... 0 0 0]\n",
            " [0 0 0 ... 0 0 0]\n",
            " [0 0 0 ... 0 0 0]]\n"
          ]
        }
      ]
    },
    {
      "cell_type": "code",
      "source": [],
      "metadata": {
        "id": "PMeLpF4pw9fG"
      },
      "execution_count": 278,
      "outputs": []
    },
    {
      "cell_type": "markdown",
      "source": [
        "TF-IDF (Term Frequency–Inverse Document Frequency)"
      ],
      "metadata": {
        "id": "SigOAoTyLohx"
      }
    },
    {
      "cell_type": "code",
      "source": [
        "from sklearn.feature_extraction.text import TfidfVectorizer"
      ],
      "metadata": {
        "id": "zQtI9-SuJsnA"
      },
      "execution_count": 279,
      "outputs": []
    },
    {
      "cell_type": "code",
      "source": [
        "tfidf_vectorizer=TfidfVectorizer(stop_words='english', lowercase=False, preprocessor=None, tokenizer=None)"
      ],
      "metadata": {
        "id": "za-RQXMjJsp_"
      },
      "execution_count": 280,
      "outputs": []
    },
    {
      "cell_type": "code",
      "source": [
        "tf_idf=tfidf_vectorizer.fit_transform(x_train)"
      ],
      "metadata": {
        "id": "_CetL07TJstn"
      },
      "execution_count": 281,
      "outputs": []
    },
    {
      "cell_type": "code",
      "source": [
        "tf_idf.shape "
      ],
      "metadata": {
        "colab": {
          "base_uri": "https://localhost:8080/"
        },
        "id": "dD9toCzXJswe",
        "outputId": "b1e1ab82-4ceb-4635-decf-4fa102c38c1a"
      },
      "execution_count": 282,
      "outputs": [
        {
          "output_type": "execute_result",
          "data": {
            "text/plain": [
              "(8817, 12178)"
            ]
          },
          "metadata": {},
          "execution_count": 282
        }
      ]
    },
    {
      "cell_type": "code",
      "source": [
        "print(tf_idf)"
      ],
      "metadata": {
        "colab": {
          "base_uri": "https://localhost:8080/"
        },
        "id": "7-I_FcuAJsze",
        "outputId": "c64dec35-6fcf-49ee-ddeb-665d833d6452"
      },
      "execution_count": 283,
      "outputs": [
        {
          "output_type": "stream",
          "name": "stdout",
          "text": [
            "  (0, 11861)\t0.8807501898696926\n",
            "  (0, 4726)\t0.4735811472646481\n",
            "  (1, 11753)\t0.17741675985447072\n",
            "  (1, 11356)\t0.24152410580223221\n",
            "  (1, 5960)\t0.4020366569089447\n",
            "  (1, 11111)\t0.4020366569089447\n",
            "  (1, 3530)\t0.2820275790953301\n",
            "  (1, 473)\t0.17821270059996475\n",
            "  (1, 10096)\t0.34269077009776955\n",
            "  (1, 11110)\t0.4020366569089447\n",
            "  (1, 279)\t0.3382898251715771\n",
            "  (1, 5074)\t0.2600247541846457\n",
            "  (1, 9761)\t0.1204151759725585\n",
            "  (2, 1630)\t0.4554250039465444\n",
            "  (2, 361)\t0.261536983764886\n",
            "  (2, 6427)\t0.19077214179211277\n",
            "  (2, 1691)\t0.27028955434445945\n",
            "  (2, 2969)\t0.28660637800399846\n",
            "  (2, 9976)\t0.4554250039465444\n",
            "  (2, 8463)\t0.32744703611432024\n",
            "  (2, 9795)\t0.421387761011197\n",
            "  (2, 11753)\t0.20097676957652508\n",
            "  (3, 5019)\t0.5770877924034222\n",
            "  (3, 11753)\t0.5778196706912493\n",
            "  (3, 5074)\t0.4234307343843619\n",
            "  :\t:\n",
            "  (8812, 9761)\t0.16193515213635507\n",
            "  (8813, 11945)\t0.49286219379661445\n",
            "  (8813, 11517)\t0.4147327150679607\n",
            "  (8813, 1793)\t0.43358554066390836\n",
            "  (8813, 2511)\t0.3253962110652104\n",
            "  (8813, 11322)\t0.2901785596073889\n",
            "  (8813, 2041)\t0.4549735390922403\n",
            "  (8814, 7532)\t0.4824662799881364\n",
            "  (8814, 8398)\t0.5094950883322814\n",
            "  (8814, 4779)\t0.5549525755265621\n",
            "  (8814, 5421)\t0.35060847875968865\n",
            "  (8814, 4726)\t0.2770241454782278\n",
            "  (8815, 117)\t0.6078581513840174\n",
            "  (8815, 5068)\t0.5036873544423187\n",
            "  (8815, 1535)\t0.4244785443323686\n",
            "  (8815, 5149)\t0.36829154655484947\n",
            "  (8815, 1579)\t0.24695509492337536\n",
            "  (8816, 4679)\t0.519307583874959\n",
            "  (8816, 1112)\t0.3594724459041576\n",
            "  (8816, 10620)\t0.44039756144039516\n",
            "  (8816, 8973)\t0.3541738270005326\n",
            "  (8816, 4698)\t0.22187147953563924\n",
            "  (8816, 9086)\t0.2530269245037019\n",
            "  (8816, 11322)\t0.21459945759489418\n",
            "  (8816, 361)\t0.34986794216622163\n"
          ]
        }
      ]
    },
    {
      "cell_type": "code",
      "source": [],
      "metadata": {
        "id": "mGtHsXI1Js2O"
      },
      "execution_count": 283,
      "outputs": []
    },
    {
      "cell_type": "code",
      "source": [],
      "metadata": {
        "id": "xmnw0wHVJs5S"
      },
      "execution_count": 283,
      "outputs": []
    },
    {
      "cell_type": "markdown",
      "source": [
        "Word2Vec"
      ],
      "metadata": {
        "id": "Dro0-3gQNZdC"
      }
    },
    {
      "cell_type": "code",
      "source": [
        "pip install gensim"
      ],
      "metadata": {
        "id": "KVHZjbVtJs8Z",
        "colab": {
          "base_uri": "https://localhost:8080/"
        },
        "outputId": "04b9a3cf-9e4c-4710-dcca-b75e139348c3"
      },
      "execution_count": null,
      "outputs": [
        {
          "output_type": "stream",
          "name": "stdout",
          "text": [
            "Looking in indexes: https://pypi.org/simple, https://us-python.pkg.dev/colab-wheels/public/simple/\n",
            "Requirement already satisfied: gensim in /usr/local/lib/python3.7/dist-packages (3.6.0)\n",
            "Requirement already satisfied: six>=1.5.0 in /usr/local/lib/python3.7/dist-packages (from gensim) (1.15.0)\n",
            "Requirement already satisfied: scipy>=0.18.1 in /usr/local/lib/python3.7/dist-packages (from gensim) (1.7.3)\n",
            "Requirement already satisfied: numpy>=1.11.3 in /usr/local/lib/python3.7/dist-packages (from gensim) (1.21.6)\n",
            "Requirement already satisfied: smart-open>=1.2.1 in /usr/local/lib/python3.7/dist-packages (from gensim) (5.2.1)\n"
          ]
        }
      ]
    },
    {
      "cell_type": "code",
      "source": [
        "from gensim.models import Word2Vec"
      ],
      "metadata": {
        "id": "HfThbeZFJs_G"
      },
      "execution_count": null,
      "outputs": []
    },
    {
      "cell_type": "code",
      "source": [
        "word_vec=Word2Vec(sentences=x_train_new,min_count=1)"
      ],
      "metadata": {
        "id": "0b751Zp2JtB-"
      },
      "execution_count": null,
      "outputs": []
    },
    {
      "cell_type": "code",
      "source": [
        "words_wrdvec=word_vec.wv.vocab"
      ],
      "metadata": {
        "id": "ocxpPr7WJtG3"
      },
      "execution_count": null,
      "outputs": []
    },
    {
      "cell_type": "code",
      "source": [
        "#print(words_wrdvec)"
      ],
      "metadata": {
        "id": "H8KSB0uCJtJ-"
      },
      "execution_count": null,
      "outputs": []
    },
    {
      "cell_type": "code",
      "source": [],
      "metadata": {
        "id": "QbC7a44RKSdE"
      },
      "execution_count": null,
      "outputs": []
    },
    {
      "cell_type": "markdown",
      "source": [
        "**Model Build**"
      ],
      "metadata": {
        "id": "OsrfWA85MHOy"
      }
    },
    {
      "cell_type": "markdown",
      "source": [
        "Model 1: Logistic Regression"
      ],
      "metadata": {
        "id": "K8j3OOSgL-X6"
      }
    },
    {
      "cell_type": "code",
      "source": [
        "from sklearn.linear_model import LogisticRegression"
      ],
      "metadata": {
        "id": "1Wlo3XgWcQ1M"
      },
      "execution_count": null,
      "outputs": []
    },
    {
      "cell_type": "code",
      "source": [
        "lr=LogisticRegression()"
      ],
      "metadata": {
        "id": "j31irVX1MK9a"
      },
      "execution_count": null,
      "outputs": []
    },
    {
      "cell_type": "code",
      "source": [
        "lr_bow=lr.fit(bag_of_words,y_train)"
      ],
      "metadata": {
        "id": "XQJ2ywXEMLAC"
      },
      "execution_count": null,
      "outputs": []
    },
    {
      "cell_type": "code",
      "source": [
        "lr_tfidf=lr.fit(tf_idf,y_train)"
      ],
      "metadata": {
        "id": "Eyt7dHtYN_tZ"
      },
      "execution_count": null,
      "outputs": []
    },
    {
      "cell_type": "code",
      "source": [
        "#lr_word2vec=lr.fit(word_vec,y_train_new)"
      ],
      "metadata": {
        "id": "Cmu8GTARMLCz"
      },
      "execution_count": null,
      "outputs": []
    },
    {
      "cell_type": "markdown",
      "source": [
        "Model 2: Naive Bayes"
      ],
      "metadata": {
        "id": "j0TkUngdNNnv"
      }
    },
    {
      "cell_type": "code",
      "source": [
        "from sklearn.naive_bayes import MultinomialNB"
      ],
      "metadata": {
        "id": "ra8pYnhuMLFI"
      },
      "execution_count": null,
      "outputs": []
    },
    {
      "cell_type": "code",
      "source": [
        "mnb=MultinomialNB()"
      ],
      "metadata": {
        "id": "Qv0L1UNCNMKn"
      },
      "execution_count": null,
      "outputs": []
    },
    {
      "cell_type": "code",
      "source": [
        "mnb_bow=mnb.fit(bag_of_words,y_train)"
      ],
      "metadata": {
        "id": "v-VkRhXENMNX"
      },
      "execution_count": null,
      "outputs": []
    },
    {
      "cell_type": "code",
      "source": [
        "mnb_tfidf=mnb.fit(tf_idf,y_train)"
      ],
      "metadata": {
        "id": "vZVhVv1sNMQg"
      },
      "execution_count": null,
      "outputs": []
    },
    {
      "cell_type": "code",
      "source": [
        "#mnb_word2vec=mnb.fit(word_vec,y_train_new)"
      ],
      "metadata": {
        "id": "5qvuI-SzNMS_"
      },
      "execution_count": null,
      "outputs": []
    },
    {
      "cell_type": "code",
      "source": [],
      "metadata": {
        "id": "-CznaRuYQOXc"
      },
      "execution_count": null,
      "outputs": []
    },
    {
      "cell_type": "markdown",
      "source": [
        "Model 3: SVM"
      ],
      "metadata": {
        "id": "qOCBrheDQO-z"
      }
    },
    {
      "cell_type": "code",
      "source": [
        "from sklearn.svm import SVC"
      ],
      "metadata": {
        "id": "mbikAjAJQOax"
      },
      "execution_count": null,
      "outputs": []
    },
    {
      "cell_type": "code",
      "source": [
        "sv=SVC()"
      ],
      "metadata": {
        "id": "y0P-uqtpQOeD"
      },
      "execution_count": null,
      "outputs": []
    },
    {
      "cell_type": "code",
      "source": [
        "sv_bow=sv.fit(bag_of_words,y_train)"
      ],
      "metadata": {
        "id": "nmrB-kGmQOgv"
      },
      "execution_count": null,
      "outputs": []
    },
    {
      "cell_type": "code",
      "source": [
        "sv_tfidf=sv.fit(tf_idf,y_train)"
      ],
      "metadata": {
        "id": "r7zONbWrQOkS"
      },
      "execution_count": null,
      "outputs": []
    },
    {
      "cell_type": "code",
      "source": [
        "#sv_word2vec=sv.fit(word_vec,y_train_new)"
      ],
      "metadata": {
        "id": "SMa7S7fGRVwy"
      },
      "execution_count": null,
      "outputs": []
    },
    {
      "cell_type": "code",
      "source": [],
      "metadata": {
        "id": "CEEQ8haQRldu"
      },
      "execution_count": null,
      "outputs": []
    },
    {
      "cell_type": "markdown",
      "source": [
        "**Models Predict**"
      ],
      "metadata": {
        "id": "m4a18HUrTqIm"
      }
    },
    {
      "cell_type": "code",
      "source": [
        " # Logistic Models"
      ],
      "metadata": {
        "id": "Jd-7zHB4YjOA"
      },
      "execution_count": null,
      "outputs": []
    },
    {
      "cell_type": "code",
      "source": [
        "lr_bow_pred=lr_bow.predict(bow_vectorizer.transform(x_test))"
      ],
      "metadata": {
        "id": "54TmuRWUTn8c"
      },
      "execution_count": null,
      "outputs": []
    },
    {
      "cell_type": "code",
      "source": [
        "lr_tfidf_pred=lr_tfidf.predict(tfidf_vectorizer.transform(x_test))"
      ],
      "metadata": {
        "id": "2FMwxDkKTn_b"
      },
      "execution_count": null,
      "outputs": []
    },
    {
      "cell_type": "code",
      "source": [
        "# Naive Byes models"
      ],
      "metadata": {
        "id": "qpAMoQ2OToFW"
      },
      "execution_count": null,
      "outputs": []
    },
    {
      "cell_type": "code",
      "source": [
        "mnb_bow_pred=mnb_bow.predict(bow_vectorizer.transform(x_test))"
      ],
      "metadata": {
        "id": "llDeJBbLToKa"
      },
      "execution_count": null,
      "outputs": []
    },
    {
      "cell_type": "code",
      "source": [
        "mnb_tfidf_pred=mnb_tfidf.predict(tfidf_vectorizer.transform(x_test))"
      ],
      "metadata": {
        "id": "HwPqjyRdToMz"
      },
      "execution_count": null,
      "outputs": []
    },
    {
      "cell_type": "code",
      "source": [
        "# SVM Models"
      ],
      "metadata": {
        "id": "Nv1_f95EToPn"
      },
      "execution_count": null,
      "outputs": []
    },
    {
      "cell_type": "code",
      "source": [
        "sv_bow_pred=sv_bow.predict(bow_vectorizer.transform(x_test))"
      ],
      "metadata": {
        "id": "3huI6b9vZbSZ"
      },
      "execution_count": null,
      "outputs": []
    },
    {
      "cell_type": "code",
      "source": [
        "sv_tfidf_pred=sv_tfidf.predict(tfidf_vectorizer.transform(x_test))"
      ],
      "metadata": {
        "id": "o8N-gTsSZbVR"
      },
      "execution_count": null,
      "outputs": []
    },
    {
      "cell_type": "code",
      "source": [],
      "metadata": {
        "id": "FenQGYGcZb1S"
      },
      "execution_count": null,
      "outputs": []
    },
    {
      "cell_type": "markdown",
      "source": [
        "\n",
        "\n",
        "> **3. ROC,Precision,Recall,Confusion Matrix**\n",
        "\n"
      ],
      "metadata": {
        "id": "s42nhsrTJx92"
      }
    },
    {
      "cell_type": "code",
      "source": [
        "from yellowbrick.classifier import ROCAUC"
      ],
      "metadata": {
        "id": "5b_AuzaucRCv"
      },
      "execution_count": null,
      "outputs": []
    },
    {
      "cell_type": "code",
      "source": [
        "from sklearn.metrics import classification_report"
      ],
      "metadata": {
        "id": "V2Pc0JZbcRFW"
      },
      "execution_count": null,
      "outputs": []
    },
    {
      "cell_type": "code",
      "source": [],
      "metadata": {
        "id": "nKu3ZHbgfTlv"
      },
      "execution_count": null,
      "outputs": []
    },
    {
      "cell_type": "code",
      "source": [
        "# Logistic Model Report"
      ],
      "metadata": {
        "id": "RgPqXkZ7cRLC"
      },
      "execution_count": null,
      "outputs": []
    },
    {
      "cell_type": "code",
      "source": [
        "lr_bow_report=classification_report(y_test,lr_bow_pred)\n",
        "print(\"Logistic Regression(BOW) report\\n\",lr_bow_report)"
      ],
      "metadata": {
        "id": "DHS9FwFicRNh"
      },
      "execution_count": null,
      "outputs": []
    },
    {
      "cell_type": "code",
      "source": [
        "lr_bow_plt=ROCAUC(lr_bow,classes=[\"Positive\",\"Negative\"])\n",
        "lr_bow_plt.fit(bag_of_words,y_train)\n",
        "lr_bow_plt.score((bow_vectorizer.transform(x_test)),y_test)\n",
        "lr_bow_plt.show();"
      ],
      "metadata": {
        "id": "k8JCqbNCgaGW"
      },
      "execution_count": null,
      "outputs": []
    },
    {
      "cell_type": "code",
      "source": [],
      "metadata": {
        "id": "IJ_Yz8Y_iXhK"
      },
      "execution_count": null,
      "outputs": []
    },
    {
      "cell_type": "code",
      "source": [
        "lr_tfidf_report=classification_report(y_test,lr_tfidf_pred)\n",
        "print(\"Logistic Regression(TFIDF) report\\n\",lr_tfidf_report)"
      ],
      "metadata": {
        "id": "eaVgZDeqcRQQ"
      },
      "execution_count": null,
      "outputs": []
    },
    {
      "cell_type": "code",
      "source": [
        "lr_tfidf_plt=ROCAUC(lr_tfidf,classes=[\"Positive\",\"Negative\"])\n",
        "lr_tfidf_plt.fit(tf_idf,y_train)\n",
        "lr_tfidf_plt.score((tfidf_vectorizer.transform(x_test)),y_test)\n",
        "lr_tfidf_plt.show();"
      ],
      "metadata": {
        "id": "o4nrGl4CiZKY"
      },
      "execution_count": null,
      "outputs": []
    },
    {
      "cell_type": "code",
      "source": [],
      "metadata": {
        "id": "Caefgqb7cRTQ"
      },
      "execution_count": null,
      "outputs": []
    },
    {
      "cell_type": "code",
      "source": [
        "# Naive Bayes Model Report"
      ],
      "metadata": {
        "id": "9y75c3BNcRV_"
      },
      "execution_count": null,
      "outputs": []
    },
    {
      "cell_type": "code",
      "source": [
        "mnb_bow_report=classification_report(y_test,mnb_bow_pred)\n",
        "print(\"Multinomial Naive Bayes(BOW) report\\n\",mnb_bow_report)"
      ],
      "metadata": {
        "id": "STtF4I9bcRYg"
      },
      "execution_count": null,
      "outputs": []
    },
    {
      "cell_type": "code",
      "source": [
        "mnb_bow_plt=ROCAUC(mnb_bow,classes=[\"Positive\",\"Negative\"])\n",
        "mnb_bow_plt.fit(bag_of_words,y_train)\n",
        "mnb_bow_plt.score((bow_vectorizer.transform(x_test)),y_test)\n",
        "mnb_bow_plt.show();"
      ],
      "metadata": {
        "id": "KoPfdkHoizux"
      },
      "execution_count": null,
      "outputs": []
    },
    {
      "cell_type": "code",
      "source": [],
      "metadata": {
        "id": "aCW9lRrJizxT"
      },
      "execution_count": null,
      "outputs": []
    },
    {
      "cell_type": "code",
      "source": [
        "mnb_tfidf_report=classification_report(y_test,mnb_tfidf_pred)\n",
        "print(\"Multinomial Naive Bayes(TFIDF) report\\n\",mnb_tfidf_report)"
      ],
      "metadata": {
        "id": "Rx0g0IzqcRbT"
      },
      "execution_count": null,
      "outputs": []
    },
    {
      "cell_type": "code",
      "source": [
        "mnb_tfidf_plt=ROCAUC(mnb_tfidf,classes=[\"Positive\",\"Negative\"])\n",
        "mnb_tfidf_plt.fit(tf_idf,y_train)\n",
        "mnb_tfidf_plt.score((tfidf_vectorizer.transform(x_test)),y_test)\n",
        "mnb_tfidf_plt.show();"
      ],
      "metadata": {
        "id": "YVuBgv2WcReC"
      },
      "execution_count": null,
      "outputs": []
    },
    {
      "cell_type": "code",
      "source": [],
      "metadata": {
        "id": "hWfIlEZHj-kP"
      },
      "execution_count": null,
      "outputs": []
    },
    {
      "cell_type": "code",
      "source": [
        "# SVM Model Report"
      ],
      "metadata": {
        "id": "3HK7MRH7cRgp"
      },
      "execution_count": null,
      "outputs": []
    },
    {
      "cell_type": "code",
      "source": [
        "sv_bow_report=classification_report(y_test,sv_bow_pred)\n",
        "print(\"SVM (BOW) report\\n\",sv_bow_report)"
      ],
      "metadata": {
        "id": "foNkQaHAcRmA"
      },
      "execution_count": null,
      "outputs": []
    },
    {
      "cell_type": "code",
      "source": [],
      "metadata": {
        "id": "swn487i6kr0_"
      },
      "execution_count": null,
      "outputs": []
    },
    {
      "cell_type": "code",
      "source": [
        "sv_tfidf_report=classification_report(y_test,sv_tfidf_pred)\n",
        "print(\"SVM (TFIDF) report\\n\",sv_bow_report)"
      ],
      "metadata": {
        "id": "bha7AGt6cRom"
      },
      "execution_count": null,
      "outputs": []
    },
    {
      "cell_type": "code",
      "source": [],
      "metadata": {
        "id": "LylQgjI6f9fM"
      },
      "execution_count": null,
      "outputs": []
    },
    {
      "cell_type": "code",
      "source": [],
      "metadata": {
        "id": "RmAFG7_If9id"
      },
      "execution_count": null,
      "outputs": []
    },
    {
      "cell_type": "markdown",
      "source": [
        "**5. RandomizedSearchCV on the Models**"
      ],
      "metadata": {
        "id": "pE5BpSqmlanH"
      }
    },
    {
      "cell_type": "code",
      "source": [
        "from sklearn.model_selection import RandomizedSearchCV"
      ],
      "metadata": {
        "id": "43Q29ugmLEhP"
      },
      "execution_count": null,
      "outputs": []
    },
    {
      "cell_type": "code",
      "source": [
        "# Logistic Regression Model"
      ],
      "metadata": {
        "id": "jev4vKfvlZ_M"
      },
      "execution_count": null,
      "outputs": []
    },
    {
      "cell_type": "code",
      "source": [
        "lr_param=[\n",
        "    {\n",
        "        'penalty':['l1','l2','elasticnet','none'],\n",
        "         'C':[1,5,10,20],\n",
        "          'solver':['lbfgs','newton-cg','liblinear','sag','saga'],\n",
        "            'max-iter':[100,1000,2000,5000]\n",
        "    }\n",
        "]"
      ],
      "metadata": {
        "id": "ZhAAnuqRlmME"
      },
      "execution_count": null,
      "outputs": []
    },
    {
      "cell_type": "code",
      "source": [
        "classifier1=RandomizedSearchCV(lr,lr_param,cv=5)"
      ],
      "metadata": {
        "id": "-n_YzDbnlmPA"
      },
      "execution_count": null,
      "outputs": []
    },
    {
      "cell_type": "code",
      "source": [
        "classifier1.fit(bag_of_words,y_train)"
      ],
      "metadata": {
        "id": "bG3mEZhMlmVS"
      },
      "execution_count": null,
      "outputs": []
    },
    {
      "cell_type": "code",
      "source": [
        "classifier1.cv_results_"
      ],
      "metadata": {
        "id": "bnoPVHAllmYn"
      },
      "execution_count": null,
      "outputs": []
    },
    {
      "cell_type": "code",
      "source": [
        "# best parameters\n",
        "\n",
        "best_parameters = classifier1.best_params_\n",
        "print(best_parameters)"
      ],
      "metadata": {
        "id": "vgMQLm_Dlmar"
      },
      "execution_count": null,
      "outputs": []
    },
    {
      "cell_type": "code",
      "source": [
        "# higest accuracy\n",
        "\n",
        "highest_accuracy = classifier1.best_score_\n",
        "print(highest_accuracy)"
      ],
      "metadata": {
        "id": "6a2S7iiKlmdr"
      },
      "execution_count": null,
      "outputs": []
    },
    {
      "cell_type": "code",
      "source": [],
      "metadata": {
        "id": "DLUcGg_elmgE"
      },
      "execution_count": null,
      "outputs": []
    },
    {
      "cell_type": "code",
      "source": [],
      "metadata": {
        "id": "N0G9BZtdf9lf"
      },
      "execution_count": null,
      "outputs": []
    },
    {
      "cell_type": "code",
      "source": [],
      "metadata": {
        "id": "aq8pn6TmRHKw"
      },
      "execution_count": null,
      "outputs": []
    },
    {
      "cell_type": "code",
      "source": [],
      "metadata": {
        "id": "N9smFMFlRHNp"
      },
      "execution_count": null,
      "outputs": []
    },
    {
      "cell_type": "code",
      "source": [],
      "metadata": {
        "id": "mnOVkRgyRHQf"
      },
      "execution_count": null,
      "outputs": []
    },
    {
      "cell_type": "code",
      "source": [],
      "metadata": {
        "id": "Yj0Tp5xsRHV9"
      },
      "execution_count": null,
      "outputs": []
    },
    {
      "cell_type": "code",
      "source": [
        "# SVM Model"
      ],
      "metadata": {
        "id": "s236fh8yRHcI"
      },
      "execution_count": null,
      "outputs": []
    },
    {
      "cell_type": "code",
      "source": [
        "sv_param= {\n",
        "              'kernel':['linear','poly','rbf','sigmoid'],\n",
        "              'C':[1, 5, 10, 20]\n",
        "}"
      ],
      "metadata": {
        "id": "XcZ80KINRHfq"
      },
      "execution_count": null,
      "outputs": []
    },
    {
      "cell_type": "code",
      "source": [
        "classifier3=RandomizedSearchCV(sv,sv_param,cv=5)"
      ],
      "metadata": {
        "id": "u4lKWIaDRHim"
      },
      "execution_count": null,
      "outputs": []
    },
    {
      "cell_type": "code",
      "source": [
        "classifier3.fit(bag_of_words,y_train)"
      ],
      "metadata": {
        "id": "aFm2UxvZf9th"
      },
      "execution_count": null,
      "outputs": []
    },
    {
      "cell_type": "code",
      "source": [
        "classifier3.cv_results_"
      ],
      "metadata": {
        "id": "VzhhLjoZf9wW"
      },
      "execution_count": null,
      "outputs": []
    },
    {
      "cell_type": "code",
      "source": [
        "# best parameters\n",
        "\n",
        "best_parameters = classifier3.best_params_\n",
        "print(best_parameters)"
      ],
      "metadata": {
        "id": "c8fK_bo-f9zC"
      },
      "execution_count": null,
      "outputs": []
    },
    {
      "cell_type": "code",
      "source": [
        "# higest accuracy\n",
        "\n",
        "highest_accuracy = classifier3.best_score_\n",
        "print(highest_accuracy)"
      ],
      "metadata": {
        "id": "N9CIXtERR2QP"
      },
      "execution_count": null,
      "outputs": []
    }
  ]
}