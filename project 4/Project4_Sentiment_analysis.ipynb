{
  "cells": [
    {
      "cell_type": "code",
      "execution_count": 3,
      "metadata": {
        "id": "uBnRxfO6KLiU"
      },
      "outputs": [],
      "source": []
    },
    {
      "cell_type": "code",
      "execution_count": 4,
      "metadata": {
        "id": "ZPT0FwLCKRu1"
      },
      "outputs": [],
      "source": [
        "# Importing all necessery librarys\n",
        "import pandas as pd\n",
        "import numpy as np\n",
        "import seaborn as sns\n",
        "import matplotlib.pyplot as plt\n",
        "%matplotlib inline"
      ]
    },
    {
      "cell_type": "code",
      "execution_count": 5,
      "metadata": {
        "id": "sevy12M_KRx8"
      },
      "outputs": [],
      "source": [
        "#importing the dataset\n",
        "df=pd.read_excel(\"train.xlsx\")\n"
      ]
    },
    {
      "cell_type": "markdown",
      "metadata": {
        "id": "iF7cB6c-XGmT"
      },
      "source": [
        "For my model i only consider the Positive and Negative Sentiments.\n",
        "And filter the Data in Excel accordingly. Due to facing some issues with google colab   "
      ]
    },
    {
      "cell_type": "code",
      "execution_count": 6,
      "metadata": {
        "colab": {
          "base_uri": "https://localhost:8080/",
          "height": 206
        },
        "id": "F4Exv2kjKR0s",
        "outputId": "86a9e49e-58c8-4aa4-f56e-2c06903993ef"
      },
      "outputs": [
        {
          "output_type": "execute_result",
          "data": {
            "text/plain": [
              "   Sentiment                                            Reviews\n",
              "0          0               Enna da ellam avan seyal  Mari iruku\n",
              "1          0          This movei is just like  ellam avan seyal\n",
              "2          1   Padam vanthathum 13k dislike pottavaga yellam...\n",
              "3          1    Neraya neraya neraya... ... V era level...thala\n",
              "4          1   wow thavala sema mass....padam oru pundaikum ..."
            ],
            "text/html": [
              "\n",
              "  <div id=\"df-140f2a06-ba2a-4c21-9ec2-1e25eb8df21f\">\n",
              "    <div class=\"colab-df-container\">\n",
              "      <div>\n",
              "<style scoped>\n",
              "    .dataframe tbody tr th:only-of-type {\n",
              "        vertical-align: middle;\n",
              "    }\n",
              "\n",
              "    .dataframe tbody tr th {\n",
              "        vertical-align: top;\n",
              "    }\n",
              "\n",
              "    .dataframe thead th {\n",
              "        text-align: right;\n",
              "    }\n",
              "</style>\n",
              "<table border=\"1\" class=\"dataframe\">\n",
              "  <thead>\n",
              "    <tr style=\"text-align: right;\">\n",
              "      <th></th>\n",
              "      <th>Sentiment</th>\n",
              "      <th>Reviews</th>\n",
              "    </tr>\n",
              "  </thead>\n",
              "  <tbody>\n",
              "    <tr>\n",
              "      <th>0</th>\n",
              "      <td>0</td>\n",
              "      <td>Enna da ellam avan seyal  Mari iruku</td>\n",
              "    </tr>\n",
              "    <tr>\n",
              "      <th>1</th>\n",
              "      <td>0</td>\n",
              "      <td>This movei is just like  ellam avan seyal</td>\n",
              "    </tr>\n",
              "    <tr>\n",
              "      <th>2</th>\n",
              "      <td>1</td>\n",
              "      <td>Padam vanthathum 13k dislike pottavaga yellam...</td>\n",
              "    </tr>\n",
              "    <tr>\n",
              "      <th>3</th>\n",
              "      <td>1</td>\n",
              "      <td>Neraya neraya neraya... ... V era level...thala</td>\n",
              "    </tr>\n",
              "    <tr>\n",
              "      <th>4</th>\n",
              "      <td>1</td>\n",
              "      <td>wow thavala sema mass....padam oru pundaikum ...</td>\n",
              "    </tr>\n",
              "  </tbody>\n",
              "</table>\n",
              "</div>\n",
              "      <button class=\"colab-df-convert\" onclick=\"convertToInteractive('df-140f2a06-ba2a-4c21-9ec2-1e25eb8df21f')\"\n",
              "              title=\"Convert this dataframe to an interactive table.\"\n",
              "              style=\"display:none;\">\n",
              "        \n",
              "  <svg xmlns=\"http://www.w3.org/2000/svg\" height=\"24px\"viewBox=\"0 0 24 24\"\n",
              "       width=\"24px\">\n",
              "    <path d=\"M0 0h24v24H0V0z\" fill=\"none\"/>\n",
              "    <path d=\"M18.56 5.44l.94 2.06.94-2.06 2.06-.94-2.06-.94-.94-2.06-.94 2.06-2.06.94zm-11 1L8.5 8.5l.94-2.06 2.06-.94-2.06-.94L8.5 2.5l-.94 2.06-2.06.94zm10 10l.94 2.06.94-2.06 2.06-.94-2.06-.94-.94-2.06-.94 2.06-2.06.94z\"/><path d=\"M17.41 7.96l-1.37-1.37c-.4-.4-.92-.59-1.43-.59-.52 0-1.04.2-1.43.59L10.3 9.45l-7.72 7.72c-.78.78-.78 2.05 0 2.83L4 21.41c.39.39.9.59 1.41.59.51 0 1.02-.2 1.41-.59l7.78-7.78 2.81-2.81c.8-.78.8-2.07 0-2.86zM5.41 20L4 18.59l7.72-7.72 1.47 1.35L5.41 20z\"/>\n",
              "  </svg>\n",
              "      </button>\n",
              "      \n",
              "  <style>\n",
              "    .colab-df-container {\n",
              "      display:flex;\n",
              "      flex-wrap:wrap;\n",
              "      gap: 12px;\n",
              "    }\n",
              "\n",
              "    .colab-df-convert {\n",
              "      background-color: #E8F0FE;\n",
              "      border: none;\n",
              "      border-radius: 50%;\n",
              "      cursor: pointer;\n",
              "      display: none;\n",
              "      fill: #1967D2;\n",
              "      height: 32px;\n",
              "      padding: 0 0 0 0;\n",
              "      width: 32px;\n",
              "    }\n",
              "\n",
              "    .colab-df-convert:hover {\n",
              "      background-color: #E2EBFA;\n",
              "      box-shadow: 0px 1px 2px rgba(60, 64, 67, 0.3), 0px 1px 3px 1px rgba(60, 64, 67, 0.15);\n",
              "      fill: #174EA6;\n",
              "    }\n",
              "\n",
              "    [theme=dark] .colab-df-convert {\n",
              "      background-color: #3B4455;\n",
              "      fill: #D2E3FC;\n",
              "    }\n",
              "\n",
              "    [theme=dark] .colab-df-convert:hover {\n",
              "      background-color: #434B5C;\n",
              "      box-shadow: 0px 1px 3px 1px rgba(0, 0, 0, 0.15);\n",
              "      filter: drop-shadow(0px 1px 2px rgba(0, 0, 0, 0.3));\n",
              "      fill: #FFFFFF;\n",
              "    }\n",
              "  </style>\n",
              "\n",
              "      <script>\n",
              "        const buttonEl =\n",
              "          document.querySelector('#df-140f2a06-ba2a-4c21-9ec2-1e25eb8df21f button.colab-df-convert');\n",
              "        buttonEl.style.display =\n",
              "          google.colab.kernel.accessAllowed ? 'block' : 'none';\n",
              "\n",
              "        async function convertToInteractive(key) {\n",
              "          const element = document.querySelector('#df-140f2a06-ba2a-4c21-9ec2-1e25eb8df21f');\n",
              "          const dataTable =\n",
              "            await google.colab.kernel.invokeFunction('convertToInteractive',\n",
              "                                                     [key], {});\n",
              "          if (!dataTable) return;\n",
              "\n",
              "          const docLinkHtml = 'Like what you see? Visit the ' +\n",
              "            '<a target=\"_blank\" href=https://colab.research.google.com/notebooks/data_table.ipynb>data table notebook</a>'\n",
              "            + ' to learn more about interactive tables.';\n",
              "          element.innerHTML = '';\n",
              "          dataTable['output_type'] = 'display_data';\n",
              "          await google.colab.output.renderOutput(dataTable, element);\n",
              "          const docLink = document.createElement('div');\n",
              "          docLink.innerHTML = docLinkHtml;\n",
              "          element.appendChild(docLink);\n",
              "        }\n",
              "      </script>\n",
              "    </div>\n",
              "  </div>\n",
              "  "
            ]
          },
          "metadata": {},
          "execution_count": 6
        }
      ],
      "source": [
        "df.head()"
      ]
    },
    {
      "cell_type": "code",
      "execution_count": 6,
      "metadata": {
        "id": "Rird7dB_KR3s"
      },
      "outputs": [],
      "source": []
    },
    {
      "cell_type": "code",
      "execution_count": 6,
      "metadata": {
        "id": "UEokeIq8KR60"
      },
      "outputs": [],
      "source": []
    },
    {
      "cell_type": "markdown",
      "metadata": {
        "id": "eaLZUiMXVJt5"
      },
      "source": [
        "\n",
        "> **1. EDA**\n",
        "\n",
        "\n",
        "\n",
        "---\n",
        "\n"
      ]
    },
    {
      "cell_type": "code",
      "execution_count": 7,
      "metadata": {
        "colab": {
          "base_uri": "https://localhost:8080/",
          "height": 300
        },
        "id": "s0wvlMpXKR9c",
        "outputId": "3e70eee2-a59b-4338-a4bc-d0887760883e"
      },
      "outputs": [
        {
          "output_type": "execute_result",
          "data": {
            "text/plain": [
              "          Sentiment\n",
              "count  12596.000000\n",
              "mean       0.838282\n",
              "std        0.368207\n",
              "min        0.000000\n",
              "25%        1.000000\n",
              "50%        1.000000\n",
              "75%        1.000000\n",
              "max        1.000000"
            ],
            "text/html": [
              "\n",
              "  <div id=\"df-7f486471-e264-4910-9fe6-e5a152829797\">\n",
              "    <div class=\"colab-df-container\">\n",
              "      <div>\n",
              "<style scoped>\n",
              "    .dataframe tbody tr th:only-of-type {\n",
              "        vertical-align: middle;\n",
              "    }\n",
              "\n",
              "    .dataframe tbody tr th {\n",
              "        vertical-align: top;\n",
              "    }\n",
              "\n",
              "    .dataframe thead th {\n",
              "        text-align: right;\n",
              "    }\n",
              "</style>\n",
              "<table border=\"1\" class=\"dataframe\">\n",
              "  <thead>\n",
              "    <tr style=\"text-align: right;\">\n",
              "      <th></th>\n",
              "      <th>Sentiment</th>\n",
              "    </tr>\n",
              "  </thead>\n",
              "  <tbody>\n",
              "    <tr>\n",
              "      <th>count</th>\n",
              "      <td>12596.000000</td>\n",
              "    </tr>\n",
              "    <tr>\n",
              "      <th>mean</th>\n",
              "      <td>0.838282</td>\n",
              "    </tr>\n",
              "    <tr>\n",
              "      <th>std</th>\n",
              "      <td>0.368207</td>\n",
              "    </tr>\n",
              "    <tr>\n",
              "      <th>min</th>\n",
              "      <td>0.000000</td>\n",
              "    </tr>\n",
              "    <tr>\n",
              "      <th>25%</th>\n",
              "      <td>1.000000</td>\n",
              "    </tr>\n",
              "    <tr>\n",
              "      <th>50%</th>\n",
              "      <td>1.000000</td>\n",
              "    </tr>\n",
              "    <tr>\n",
              "      <th>75%</th>\n",
              "      <td>1.000000</td>\n",
              "    </tr>\n",
              "    <tr>\n",
              "      <th>max</th>\n",
              "      <td>1.000000</td>\n",
              "    </tr>\n",
              "  </tbody>\n",
              "</table>\n",
              "</div>\n",
              "      <button class=\"colab-df-convert\" onclick=\"convertToInteractive('df-7f486471-e264-4910-9fe6-e5a152829797')\"\n",
              "              title=\"Convert this dataframe to an interactive table.\"\n",
              "              style=\"display:none;\">\n",
              "        \n",
              "  <svg xmlns=\"http://www.w3.org/2000/svg\" height=\"24px\"viewBox=\"0 0 24 24\"\n",
              "       width=\"24px\">\n",
              "    <path d=\"M0 0h24v24H0V0z\" fill=\"none\"/>\n",
              "    <path d=\"M18.56 5.44l.94 2.06.94-2.06 2.06-.94-2.06-.94-.94-2.06-.94 2.06-2.06.94zm-11 1L8.5 8.5l.94-2.06 2.06-.94-2.06-.94L8.5 2.5l-.94 2.06-2.06.94zm10 10l.94 2.06.94-2.06 2.06-.94-2.06-.94-.94-2.06-.94 2.06-2.06.94z\"/><path d=\"M17.41 7.96l-1.37-1.37c-.4-.4-.92-.59-1.43-.59-.52 0-1.04.2-1.43.59L10.3 9.45l-7.72 7.72c-.78.78-.78 2.05 0 2.83L4 21.41c.39.39.9.59 1.41.59.51 0 1.02-.2 1.41-.59l7.78-7.78 2.81-2.81c.8-.78.8-2.07 0-2.86zM5.41 20L4 18.59l7.72-7.72 1.47 1.35L5.41 20z\"/>\n",
              "  </svg>\n",
              "      </button>\n",
              "      \n",
              "  <style>\n",
              "    .colab-df-container {\n",
              "      display:flex;\n",
              "      flex-wrap:wrap;\n",
              "      gap: 12px;\n",
              "    }\n",
              "\n",
              "    .colab-df-convert {\n",
              "      background-color: #E8F0FE;\n",
              "      border: none;\n",
              "      border-radius: 50%;\n",
              "      cursor: pointer;\n",
              "      display: none;\n",
              "      fill: #1967D2;\n",
              "      height: 32px;\n",
              "      padding: 0 0 0 0;\n",
              "      width: 32px;\n",
              "    }\n",
              "\n",
              "    .colab-df-convert:hover {\n",
              "      background-color: #E2EBFA;\n",
              "      box-shadow: 0px 1px 2px rgba(60, 64, 67, 0.3), 0px 1px 3px 1px rgba(60, 64, 67, 0.15);\n",
              "      fill: #174EA6;\n",
              "    }\n",
              "\n",
              "    [theme=dark] .colab-df-convert {\n",
              "      background-color: #3B4455;\n",
              "      fill: #D2E3FC;\n",
              "    }\n",
              "\n",
              "    [theme=dark] .colab-df-convert:hover {\n",
              "      background-color: #434B5C;\n",
              "      box-shadow: 0px 1px 3px 1px rgba(0, 0, 0, 0.15);\n",
              "      filter: drop-shadow(0px 1px 2px rgba(0, 0, 0, 0.3));\n",
              "      fill: #FFFFFF;\n",
              "    }\n",
              "  </style>\n",
              "\n",
              "      <script>\n",
              "        const buttonEl =\n",
              "          document.querySelector('#df-7f486471-e264-4910-9fe6-e5a152829797 button.colab-df-convert');\n",
              "        buttonEl.style.display =\n",
              "          google.colab.kernel.accessAllowed ? 'block' : 'none';\n",
              "\n",
              "        async function convertToInteractive(key) {\n",
              "          const element = document.querySelector('#df-7f486471-e264-4910-9fe6-e5a152829797');\n",
              "          const dataTable =\n",
              "            await google.colab.kernel.invokeFunction('convertToInteractive',\n",
              "                                                     [key], {});\n",
              "          if (!dataTable) return;\n",
              "\n",
              "          const docLinkHtml = 'Like what you see? Visit the ' +\n",
              "            '<a target=\"_blank\" href=https://colab.research.google.com/notebooks/data_table.ipynb>data table notebook</a>'\n",
              "            + ' to learn more about interactive tables.';\n",
              "          element.innerHTML = '';\n",
              "          dataTable['output_type'] = 'display_data';\n",
              "          await google.colab.output.renderOutput(dataTable, element);\n",
              "          const docLink = document.createElement('div');\n",
              "          docLink.innerHTML = docLinkHtml;\n",
              "          element.appendChild(docLink);\n",
              "        }\n",
              "      </script>\n",
              "    </div>\n",
              "  </div>\n",
              "  "
            ]
          },
          "metadata": {},
          "execution_count": 7
        }
      ],
      "source": [
        "df.describe()"
      ]
    },
    {
      "cell_type": "code",
      "execution_count": 8,
      "metadata": {
        "colab": {
          "base_uri": "https://localhost:8080/"
        },
        "id": "Mx8xxY5WKSAd",
        "outputId": "2962ae0e-40e8-4a61-a780-9f9c0ac1633d"
      },
      "outputs": [
        {
          "output_type": "stream",
          "name": "stdout",
          "text": [
            "<class 'pandas.core.frame.DataFrame'>\n",
            "RangeIndex: 12596 entries, 0 to 12595\n",
            "Data columns (total 2 columns):\n",
            " #   Column     Non-Null Count  Dtype \n",
            "---  ------     --------------  ----- \n",
            " 0   Sentiment  12596 non-null  int64 \n",
            " 1   Reviews    12596 non-null  object\n",
            "dtypes: int64(1), object(1)\n",
            "memory usage: 196.9+ KB\n"
          ]
        }
      ],
      "source": [
        "df.info()"
      ]
    },
    {
      "cell_type": "code",
      "execution_count": 9,
      "metadata": {
        "colab": {
          "base_uri": "https://localhost:8080/"
        },
        "id": "Z26ftyoaKSDc",
        "outputId": "2ec25752-ad57-428b-9c11-d65c67c48270"
      },
      "outputs": [
        {
          "output_type": "execute_result",
          "data": {
            "text/plain": [
              "1    10559\n",
              "0     2037\n",
              "Name: Sentiment, dtype: int64"
            ]
          },
          "metadata": {},
          "execution_count": 9
        }
      ],
      "source": [
        "df['Sentiment'].value_counts()"
      ]
    },
    {
      "cell_type": "code",
      "execution_count": 10,
      "metadata": {
        "colab": {
          "base_uri": "https://localhost:8080/",
          "height": 295
        },
        "id": "Q5FYGOAmKSGP",
        "outputId": "b9b95ac7-22e7-4e4b-c91d-c0c14c9cd297"
      },
      "outputs": [
        {
          "output_type": "display_data",
          "data": {
            "text/plain": [
              "<Figure size 432x288 with 1 Axes>"
            ],
            "image/png": "[encoded data removed]"
          },
          "metadata": {
            "needs_background": "light"
          }
        }
      ],
      "source": [
        "sns.countplot(x=df['Sentiment']);\n",
        "plt.title(\"Countplot: Positive = 1, Negative = 0\");"
      ]
    },
    {
      "cell_type": "code",
      "execution_count": 10,
      "metadata": {
        "id": "MbUyXSPlSi2t"
      },
      "outputs": [],
      "source": []
    },
    {
      "cell_type": "code",
      "execution_count": 11,
      "metadata": {
        "colab": {
          "base_uri": "https://localhost:8080/",
          "height": 206
        },
        "id": "rr7qHJc6S6B8",
        "outputId": "156d55a7-9379-4877-cbc9-5bf57a5c5acc"
      },
      "outputs": [
        {
          "output_type": "execute_result",
          "data": {
            "text/plain": [
              "   Sentiment                                            Reviews\n",
              "0          0               Enna da ellam avan seyal  Mari iruku\n",
              "1          0          This movei is just like  ellam avan seyal\n",
              "2          1   Padam vanthathum 13k dislike pottavaga yellam...\n",
              "3          1    Neraya neraya neraya... ... V era level...thala\n",
              "4          1   wow thavala sema mass....padam oru pundaikum ..."
            ],
            "text/html": [
              "\n",
              "  <div id=\"df-cf35a7bf-9bf4-4fcf-ad27-4b77ac37606c\">\n",
              "    <div class=\"colab-df-container\">\n",
              "      <div>\n",
              "<style scoped>\n",
              "    .dataframe tbody tr th:only-of-type {\n",
              "        vertical-align: middle;\n",
              "    }\n",
              "\n",
              "    .dataframe tbody tr th {\n",
              "        vertical-align: top;\n",
              "    }\n",
              "\n",
              "    .dataframe thead th {\n",
              "        text-align: right;\n",
              "    }\n",
              "</style>\n",
              "<table border=\"1\" class=\"dataframe\">\n",
              "  <thead>\n",
              "    <tr style=\"text-align: right;\">\n",
              "      <th></th>\n",
              "      <th>Sentiment</th>\n",
              "      <th>Reviews</th>\n",
              "    </tr>\n",
              "  </thead>\n",
              "  <tbody>\n",
              "    <tr>\n",
              "      <th>0</th>\n",
              "      <td>0</td>\n",
              "      <td>Enna da ellam avan seyal  Mari iruku</td>\n",
              "    </tr>\n",
              "    <tr>\n",
              "      <th>1</th>\n",
              "      <td>0</td>\n",
              "      <td>This movei is just like  ellam avan seyal</td>\n",
              "    </tr>\n",
              "    <tr>\n",
              "      <th>2</th>\n",
              "      <td>1</td>\n",
              "      <td>Padam vanthathum 13k dislike pottavaga yellam...</td>\n",
              "    </tr>\n",
              "    <tr>\n",
              "      <th>3</th>\n",
              "      <td>1</td>\n",
              "      <td>Neraya neraya neraya... ... V era level...thala</td>\n",
              "    </tr>\n",
              "    <tr>\n",
              "      <th>4</th>\n",
              "      <td>1</td>\n",
              "      <td>wow thavala sema mass....padam oru pundaikum ...</td>\n",
              "    </tr>\n",
              "  </tbody>\n",
              "</table>\n",
              "</div>\n",
              "      <button class=\"colab-df-convert\" onclick=\"convertToInteractive('df-cf35a7bf-9bf4-4fcf-ad27-4b77ac37606c')\"\n",
              "              title=\"Convert this dataframe to an interactive table.\"\n",
              "              style=\"display:none;\">\n",
              "        \n",
              "  <svg xmlns=\"http://www.w3.org/2000/svg\" height=\"24px\"viewBox=\"0 0 24 24\"\n",
              "       width=\"24px\">\n",
              "    <path d=\"M0 0h24v24H0V0z\" fill=\"none\"/>\n",
              "    <path d=\"M18.56 5.44l.94 2.06.94-2.06 2.06-.94-2.06-.94-.94-2.06-.94 2.06-2.06.94zm-11 1L8.5 8.5l.94-2.06 2.06-.94-2.06-.94L8.5 2.5l-.94 2.06-2.06.94zm10 10l.94 2.06.94-2.06 2.06-.94-2.06-.94-.94-2.06-.94 2.06-2.06.94z\"/><path d=\"M17.41 7.96l-1.37-1.37c-.4-.4-.92-.59-1.43-.59-.52 0-1.04.2-1.43.59L10.3 9.45l-7.72 7.72c-.78.78-.78 2.05 0 2.83L4 21.41c.39.39.9.59 1.41.59.51 0 1.02-.2 1.41-.59l7.78-7.78 2.81-2.81c.8-.78.8-2.07 0-2.86zM5.41 20L4 18.59l7.72-7.72 1.47 1.35L5.41 20z\"/>\n",
              "  </svg>\n",
              "      </button>\n",
              "      \n",
              "  <style>\n",
              "    .colab-df-container {\n",
              "      display:flex;\n",
              "      flex-wrap:wrap;\n",
              "      gap: 12px;\n",
              "    }\n",
              "\n",
              "    .colab-df-convert {\n",
              "      background-color: #E8F0FE;\n",
              "      border: none;\n",
              "      border-radius: 50%;\n",
              "      cursor: pointer;\n",
              "      display: none;\n",
              "      fill: #1967D2;\n",
              "      height: 32px;\n",
              "      padding: 0 0 0 0;\n",
              "      width: 32px;\n",
              "    }\n",
              "\n",
              "    .colab-df-convert:hover {\n",
              "      background-color: #E2EBFA;\n",
              "      box-shadow: 0px 1px 2px rgba(60, 64, 67, 0.3), 0px 1px 3px 1px rgba(60, 64, 67, 0.15);\n",
              "      fill: #174EA6;\n",
              "    }\n",
              "\n",
              "    [theme=dark] .colab-df-convert {\n",
              "      background-color: #3B4455;\n",
              "      fill: #D2E3FC;\n",
              "    }\n",
              "\n",
              "    [theme=dark] .colab-df-convert:hover {\n",
              "      background-color: #434B5C;\n",
              "      box-shadow: 0px 1px 3px 1px rgba(0, 0, 0, 0.15);\n",
              "      filter: drop-shadow(0px 1px 2px rgba(0, 0, 0, 0.3));\n",
              "      fill: #FFFFFF;\n",
              "    }\n",
              "  </style>\n",
              "\n",
              "      <script>\n",
              "        const buttonEl =\n",
              "          document.querySelector('#df-cf35a7bf-9bf4-4fcf-ad27-4b77ac37606c button.colab-df-convert');\n",
              "        buttonEl.style.display =\n",
              "          google.colab.kernel.accessAllowed ? 'block' : 'none';\n",
              "\n",
              "        async function convertToInteractive(key) {\n",
              "          const element = document.querySelector('#df-cf35a7bf-9bf4-4fcf-ad27-4b77ac37606c');\n",
              "          const dataTable =\n",
              "            await google.colab.kernel.invokeFunction('convertToInteractive',\n",
              "                                                     [key], {});\n",
              "          if (!dataTable) return;\n",
              "\n",
              "          const docLinkHtml = 'Like what you see? Visit the ' +\n",
              "            '<a target=\"_blank\" href=https://colab.research.google.com/notebooks/data_table.ipynb>data table notebook</a>'\n",
              "            + ' to learn more about interactive tables.';\n",
              "          element.innerHTML = '';\n",
              "          dataTable['output_type'] = 'display_data';\n",
              "          await google.colab.output.renderOutput(dataTable, element);\n",
              "          const docLink = document.createElement('div');\n",
              "          docLink.innerHTML = docLinkHtml;\n",
              "          element.appendChild(docLink);\n",
              "        }\n",
              "      </script>\n",
              "    </div>\n",
              "  </div>\n",
              "  "
            ]
          },
          "metadata": {},
          "execution_count": 11
        }
      ],
      "source": [
        "df.head()"
      ]
    },
    {
      "cell_type": "code",
      "execution_count": 11,
      "metadata": {
        "id": "74e5IlfJPyOO"
      },
      "outputs": [],
      "source": []
    },
    {
      "cell_type": "code",
      "execution_count": 11,
      "metadata": {
        "id": "oXebIy7rjjou"
      },
      "outputs": [],
      "source": []
    },
    {
      "cell_type": "markdown",
      "metadata": {
        "id": "fjX_mwh9yUkk"
      },
      "source": [
        "**DATA Preprocessing**"
      ]
    },
    {
      "cell_type": "code",
      "execution_count": 12,
      "metadata": {
        "id": "3YfZWW2MyTU9"
      },
      "outputs": [],
      "source": [
        "# cleaning the Data."
      ]
    },
    {
      "cell_type": "code",
      "execution_count": 13,
      "metadata": {
        "id": "3nJejgVGyAXD"
      },
      "outputs": [],
      "source": [
        "import re"
      ]
    },
    {
      "cell_type": "code",
      "execution_count": 14,
      "metadata": {
        "id": "4eU5qjvcyTsr"
      },
      "outputs": [],
      "source": [
        "# Code for removing non ascii characters (Tamil unicode) from the reviews\n",
        "def non_ascii(text):\n",
        "    text=text.lower()\n",
        "    text=re.sub(r'[^\\x00-\\x7f]',\"\",text)\n",
        "    return text"
      ]
    },
    {
      "cell_type": "code",
      "execution_count": 15,
      "metadata": {
        "id": "-hQ1oWCB-QQA"
      },
      "outputs": [],
      "source": [
        "df['Reviews']=df['Reviews'].apply(non_ascii)"
      ]
    },
    {
      "cell_type": "code",
      "execution_count": 16,
      "metadata": {
        "id": "sQT3s_sM-QS3"
      },
      "outputs": [],
      "source": [
        "#df.to_excel('new_train1.xlsx')"
      ]
    },
    {
      "cell_type": "code",
      "execution_count": 16,
      "metadata": {
        "id": "5F2MwZw3x7ei"
      },
      "outputs": [],
      "source": []
    },
    {
      "cell_type": "code",
      "execution_count": 17,
      "metadata": {
        "id": "uIL9WkdTx7kS"
      },
      "outputs": [],
      "source": [
        "# To remove the non alphanumeric characters\n",
        "def remove_unwanted(text):\n",
        "    x=''\n",
        "    for i in text:\n",
        "        if i.isalpha():\n",
        "            x=x+i\n",
        "        else:\n",
        "            x=x+' '\n",
        "    return x"
      ]
    },
    {
      "cell_type": "code",
      "execution_count": 18,
      "metadata": {
        "id": "fP-QqzpD27jg"
      },
      "outputs": [],
      "source": [
        "df['Reviews']=df['Reviews'].apply(remove_unwanted)"
      ]
    },
    {
      "cell_type": "code",
      "execution_count": 19,
      "metadata": {
        "id": "p-fPX7Cd27vB"
      },
      "outputs": [],
      "source": [
        "#df.to_excel('new_train2.xlsx')"
      ]
    },
    {
      "cell_type": "code",
      "execution_count": 20,
      "metadata": {
        "id": "sVKU804T-QYK"
      },
      "outputs": [],
      "source": [
        "# To remove extra spaces\n",
        "def remove_spaces(text):\n",
        "    text = re.sub(' +', ' ', text)\n",
        "    return text"
      ]
    },
    {
      "cell_type": "code",
      "execution_count": 21,
      "metadata": {
        "id": "MxyM28DD09K3"
      },
      "outputs": [],
      "source": [
        "df['Reviews']=df['Reviews'].apply(remove_spaces)"
      ]
    },
    {
      "cell_type": "code",
      "execution_count": 22,
      "metadata": {
        "id": "rZeMa5hQ09N_"
      },
      "outputs": [],
      "source": [
        "#df.to_excel('new_train3.xlsx')"
      ]
    },
    {
      "cell_type": "code",
      "execution_count": 23,
      "metadata": {
        "colab": {
          "base_uri": "https://localhost:8080/"
        },
        "id": "UOsATh4t6FIh",
        "outputId": "a41029e1-cc07-4ced-b0d0-2738f86b7bcf"
      },
      "outputs": [
        {
          "output_type": "stream",
          "name": "stderr",
          "text": [
            "[nltk_data] Downloading package punkt to /root/nltk_data...\n",
            "[nltk_data]   Unzipping tokenizers/punkt.zip.\n"
          ]
        }
      ],
      "source": [
        "import nltk\n",
        "nltk.download('punkt')\n",
        "from nltk.corpus import stopwords"
      ]
    },
    {
      "cell_type": "code",
      "execution_count": 24,
      "metadata": {
        "id": "SAsKc_R_09Qv"
      },
      "outputs": [],
      "source": [
        "# To convert into tokens\n",
        "def word_tokenize(text):\n",
        "    text=nltk.word_tokenize(text)\n",
        "    return text"
      ]
    },
    {
      "cell_type": "code",
      "execution_count": 25,
      "metadata": {
        "id": "chu_oMLG09ZH"
      },
      "outputs": [],
      "source": [
        "df['Reviews']=df['Reviews'].apply(word_tokenize)"
      ]
    },
    {
      "cell_type": "code",
      "execution_count": 26,
      "metadata": {
        "id": "gOL0IsV6-LRA"
      },
      "outputs": [],
      "source": [
        "#df.to_excel('new_train4.xlsx')"
      ]
    },
    {
      "cell_type": "code",
      "execution_count": 27,
      "metadata": {
        "id": "kH_cWWMeVD7V"
      },
      "outputs": [],
      "source": [
        "# Function to remove consecutive duplicates \n",
        "def remove_duplicate(List):\n",
        "    list1=[]\n",
        "    len1=len(List)\n",
        "    for i in range(len1):\n",
        "        temp=List[i]\n",
        "        t=''\n",
        "        for j in temp:\n",
        "            if(t=='' or j!=t[len(t)-1]):\n",
        "                t=t+j\n",
        "        list1.append(t)\n",
        "    return list1\n",
        "            \n"
      ]
    },
    {
      "cell_type": "code",
      "execution_count": 28,
      "metadata": {
        "colab": {
          "base_uri": "https://localhost:8080/"
        },
        "id": "HTS2rRNEVD9-",
        "outputId": "d5794cb6-1a2e-4741-ba7a-c32e9d5ce9b7"
      },
      "outputs": [
        {
          "output_type": "execute_result",
          "data": {
            "text/plain": [
              "['vera', 'lvl', 'thala', 'sama', 'bgm', 'samaya', 'for']"
            ]
          },
          "metadata": {},
          "execution_count": 28
        }
      ],
      "source": [
        "remove_duplicate(['vera', 'lvl', 'thala', 'sammaaaaaaaaaaaaa', 'bgm', 'sammaya','fooor'])"
      ]
    },
    {
      "cell_type": "code",
      "execution_count": 29,
      "metadata": {
        "id": "wfW1aDBwNwx1"
      },
      "outputs": [],
      "source": [
        "df['Reviews']=df['Reviews'].apply(remove_duplicate)\n",
        "df['Reviews_new']=df['Reviews'].apply(remove_duplicate)"
      ]
    },
    {
      "cell_type": "code",
      "execution_count": 30,
      "metadata": {
        "colab": {
          "base_uri": "https://localhost:8080/",
          "height": 81
        },
        "id": "4CwJxHACbA5-",
        "outputId": "9919d47a-1422-416d-a585-524be1f9ccb4"
      },
      "outputs": [
        {
          "output_type": "execute_result",
          "data": {
            "text/plain": [
              "   Sentiment                                    Reviews  \\\n",
              "0          0  [ena, da, elam, avan, seyal, mari, iruku]   \n",
              "\n",
              "                                 Reviews_new  \n",
              "0  [ena, da, elam, avan, seyal, mari, iruku]  "
            ],
            "text/html": [
              "\n",
              "  <div id=\"df-999d1d39-4352-4b94-9096-f43a65657be3\">\n",
              "    <div class=\"colab-df-container\">\n",
              "      <div>\n",
              "<style scoped>\n",
              "    .dataframe tbody tr th:only-of-type {\n",
              "        vertical-align: middle;\n",
              "    }\n",
              "\n",
              "    .dataframe tbody tr th {\n",
              "        vertical-align: top;\n",
              "    }\n",
              "\n",
              "    .dataframe thead th {\n",
              "        text-align: right;\n",
              "    }\n",
              "</style>\n",
              "<table border=\"1\" class=\"dataframe\">\n",
              "  <thead>\n",
              "    <tr style=\"text-align: right;\">\n",
              "      <th></th>\n",
              "      <th>Sentiment</th>\n",
              "      <th>Reviews</th>\n",
              "      <th>Reviews_new</th>\n",
              "    </tr>\n",
              "  </thead>\n",
              "  <tbody>\n",
              "    <tr>\n",
              "      <th>0</th>\n",
              "      <td>0</td>\n",
              "      <td>[ena, da, elam, avan, seyal, mari, iruku]</td>\n",
              "      <td>[ena, da, elam, avan, seyal, mari, iruku]</td>\n",
              "    </tr>\n",
              "  </tbody>\n",
              "</table>\n",
              "</div>\n",
              "      <button class=\"colab-df-convert\" onclick=\"convertToInteractive('df-999d1d39-4352-4b94-9096-f43a65657be3')\"\n",
              "              title=\"Convert this dataframe to an interactive table.\"\n",
              "              style=\"display:none;\">\n",
              "        \n",
              "  <svg xmlns=\"http://www.w3.org/2000/svg\" height=\"24px\"viewBox=\"0 0 24 24\"\n",
              "       width=\"24px\">\n",
              "    <path d=\"M0 0h24v24H0V0z\" fill=\"none\"/>\n",
              "    <path d=\"M18.56 5.44l.94 2.06.94-2.06 2.06-.94-2.06-.94-.94-2.06-.94 2.06-2.06.94zm-11 1L8.5 8.5l.94-2.06 2.06-.94-2.06-.94L8.5 2.5l-.94 2.06-2.06.94zm10 10l.94 2.06.94-2.06 2.06-.94-2.06-.94-.94-2.06-.94 2.06-2.06.94z\"/><path d=\"M17.41 7.96l-1.37-1.37c-.4-.4-.92-.59-1.43-.59-.52 0-1.04.2-1.43.59L10.3 9.45l-7.72 7.72c-.78.78-.78 2.05 0 2.83L4 21.41c.39.39.9.59 1.41.59.51 0 1.02-.2 1.41-.59l7.78-7.78 2.81-2.81c.8-.78.8-2.07 0-2.86zM5.41 20L4 18.59l7.72-7.72 1.47 1.35L5.41 20z\"/>\n",
              "  </svg>\n",
              "      </button>\n",
              "      \n",
              "  <style>\n",
              "    .colab-df-container {\n",
              "      display:flex;\n",
              "      flex-wrap:wrap;\n",
              "      gap: 12px;\n",
              "    }\n",
              "\n",
              "    .colab-df-convert {\n",
              "      background-color: #E8F0FE;\n",
              "      border: none;\n",
              "      border-radius: 50%;\n",
              "      cursor: pointer;\n",
              "      display: none;\n",
              "      fill: #1967D2;\n",
              "      height: 32px;\n",
              "      padding: 0 0 0 0;\n",
              "      width: 32px;\n",
              "    }\n",
              "\n",
              "    .colab-df-convert:hover {\n",
              "      background-color: #E2EBFA;\n",
              "      box-shadow: 0px 1px 2px rgba(60, 64, 67, 0.3), 0px 1px 3px 1px rgba(60, 64, 67, 0.15);\n",
              "      fill: #174EA6;\n",
              "    }\n",
              "\n",
              "    [theme=dark] .colab-df-convert {\n",
              "      background-color: #3B4455;\n",
              "      fill: #D2E3FC;\n",
              "    }\n",
              "\n",
              "    [theme=dark] .colab-df-convert:hover {\n",
              "      background-color: #434B5C;\n",
              "      box-shadow: 0px 1px 3px 1px rgba(0, 0, 0, 0.15);\n",
              "      filter: drop-shadow(0px 1px 2px rgba(0, 0, 0, 0.3));\n",
              "      fill: #FFFFFF;\n",
              "    }\n",
              "  </style>\n",
              "\n",
              "      <script>\n",
              "        const buttonEl =\n",
              "          document.querySelector('#df-999d1d39-4352-4b94-9096-f43a65657be3 button.colab-df-convert');\n",
              "        buttonEl.style.display =\n",
              "          google.colab.kernel.accessAllowed ? 'block' : 'none';\n",
              "\n",
              "        async function convertToInteractive(key) {\n",
              "          const element = document.querySelector('#df-999d1d39-4352-4b94-9096-f43a65657be3');\n",
              "          const dataTable =\n",
              "            await google.colab.kernel.invokeFunction('convertToInteractive',\n",
              "                                                     [key], {});\n",
              "          if (!dataTable) return;\n",
              "\n",
              "          const docLinkHtml = 'Like what you see? Visit the ' +\n",
              "            '<a target=\"_blank\" href=https://colab.research.google.com/notebooks/data_table.ipynb>data table notebook</a>'\n",
              "            + ' to learn more about interactive tables.';\n",
              "          element.innerHTML = '';\n",
              "          dataTable['output_type'] = 'display_data';\n",
              "          await google.colab.output.renderOutput(dataTable, element);\n",
              "          const docLink = document.createElement('div');\n",
              "          docLink.innerHTML = docLinkHtml;\n",
              "          element.appendChild(docLink);\n",
              "        }\n",
              "      </script>\n",
              "    </div>\n",
              "  </div>\n",
              "  "
            ]
          },
          "metadata": {},
          "execution_count": 30
        }
      ],
      "source": [
        "df.head(1)"
      ]
    },
    {
      "cell_type": "code",
      "execution_count": 31,
      "metadata": {
        "id": "G1Ze1a6YNw3e"
      },
      "outputs": [],
      "source": [
        "#df.to_excel('new_train5.xlsx')"
      ]
    },
    {
      "cell_type": "code",
      "execution_count": 32,
      "metadata": {
        "id": "iuBzfp6MYcSj"
      },
      "outputs": [],
      "source": [
        "def list_to_string(List):\n",
        "    temp=\" \".join(List)\n",
        "    return temp"
      ]
    },
    {
      "cell_type": "code",
      "execution_count": 33,
      "metadata": {
        "colab": {
          "base_uri": "https://localhost:8080/",
          "height": 35
        },
        "id": "2dYcXp-6eJ5u",
        "outputId": "6a06a3b3-e9d1-45b4-b7d2-7bc2c0c663de"
      },
      "outputs": [
        {
          "output_type": "execute_result",
          "data": {
            "text/plain": [
              "'vera lvl thala sama bgm samaya for'"
            ],
            "application/vnd.google.colaboratory.intrinsic+json": {
              "type": "string"
            }
          },
          "metadata": {},
          "execution_count": 33
        }
      ],
      "source": [
        "list_to_string(['vera', 'lvl', 'thala', 'sama', 'bgm', 'samaya', 'for'])"
      ]
    },
    {
      "cell_type": "code",
      "execution_count": 34,
      "metadata": {
        "id": "hBI4Zd_reJ8V"
      },
      "outputs": [],
      "source": [
        "df['Reviews']=df['Reviews'].apply(list_to_string)"
      ]
    },
    {
      "cell_type": "code",
      "execution_count": 34,
      "metadata": {
        "id": "cdYAgq-2AQeR"
      },
      "outputs": [],
      "source": []
    },
    {
      "cell_type": "markdown",
      "metadata": {
        "id": "yGqMbOPKsx7U"
      },
      "source": [
        "**Sampling**"
      ]
    },
    {
      "cell_type": "code",
      "execution_count": 35,
      "metadata": {
        "id": "OXz8gYZxsxM1"
      },
      "outputs": [],
      "source": [
        "#pip install imblearn"
      ]
    },
    {
      "cell_type": "code",
      "execution_count": 36,
      "metadata": {
        "id": "7eO5J2nxs1f1"
      },
      "outputs": [],
      "source": [
        "#from imblearn.over_sampling import RandomOverSampler"
      ]
    },
    {
      "cell_type": "code",
      "execution_count": 37,
      "metadata": {
        "id": "wn1cPbzns1iy"
      },
      "outputs": [],
      "source": [
        "#ros = RandomOverSampler(random_state=0)"
      ]
    },
    {
      "cell_type": "code",
      "execution_count": 38,
      "metadata": {
        "id": "Hx0if4EOs1ly"
      },
      "outputs": [],
      "source": [
        "#x_ros,y_ros=ros.fit_resample(x,y)"
      ]
    },
    {
      "cell_type": "code",
      "execution_count": 38,
      "metadata": {
        "id": "u0WSPTaPsxSk"
      },
      "outputs": [],
      "source": []
    },
    {
      "cell_type": "code",
      "execution_count": 38,
      "metadata": {
        "id": "U0_K8TgxeJ_g"
      },
      "outputs": [],
      "source": []
    },
    {
      "cell_type": "markdown",
      "metadata": {
        "id": "EFkRxYTJsq90"
      },
      "source": [
        "**Segregeting dependent and independent features**"
      ]
    },
    {
      "cell_type": "code",
      "execution_count": 39,
      "metadata": {
        "id": "jBUQ1CrEsgx4"
      },
      "outputs": [],
      "source": [
        "x=df['Reviews']\n",
        "x_new=df['Reviews_new']"
      ]
    },
    {
      "cell_type": "code",
      "execution_count": 40,
      "metadata": {
        "colab": {
          "base_uri": "https://localhost:8080/"
        },
        "id": "u17G0RAdBx3P",
        "outputId": "b0bfb8d7-1a85-4494-f884-4654f6e3be75"
      },
      "outputs": [
        {
          "output_type": "execute_result",
          "data": {
            "text/plain": [
              "(12596,)"
            ]
          },
          "metadata": {},
          "execution_count": 40
        }
      ],
      "source": [
        "x.shape"
      ]
    },
    {
      "cell_type": "code",
      "execution_count": 41,
      "metadata": {
        "id": "Qk_LiEUks4fw"
      },
      "outputs": [],
      "source": [
        "y=df['Sentiment']"
      ]
    },
    {
      "cell_type": "code",
      "execution_count": 42,
      "metadata": {
        "colab": {
          "base_uri": "https://localhost:8080/"
        },
        "id": "dyk812SjB1Yt",
        "outputId": "aa956c8b-eee7-4664-95f8-5aae4ddc43ea"
      },
      "outputs": [
        {
          "output_type": "execute_result",
          "data": {
            "text/plain": [
              "(12596,)"
            ]
          },
          "metadata": {},
          "execution_count": 42
        }
      ],
      "source": [
        "y.shape"
      ]
    },
    {
      "cell_type": "code",
      "execution_count": 43,
      "metadata": {
        "colab": {
          "base_uri": "https://localhost:8080/"
        },
        "id": "QS4AVtRBs4iX",
        "outputId": "eccec26d-b98e-4180-c8c0-083a41170700"
      },
      "outputs": [
        {
          "output_type": "execute_result",
          "data": {
            "text/plain": [
              "0                    ena da elam avan seyal mari iruku\n",
              "1              this movei is just like elam avan seyal\n",
              "2    padam vanthathum k dislike potavaga yelam yea ...\n",
              "3               neraya neraya neraya v era level thala\n",
              "4      wow thavala sema mas padam oru pundaikum agathu\n",
              "Name: Reviews, dtype: object"
            ]
          },
          "metadata": {},
          "execution_count": 43
        }
      ],
      "source": [
        "x.head()"
      ]
    },
    {
      "cell_type": "code",
      "execution_count": 43,
      "metadata": {
        "id": "wY7qt2AQta3Q"
      },
      "outputs": [],
      "source": []
    },
    {
      "cell_type": "markdown",
      "metadata": {
        "id": "B9mHcy9xiUbT"
      },
      "source": [
        "**Spliting the Dataset into Train and Test**"
      ]
    },
    {
      "cell_type": "code",
      "execution_count": 44,
      "metadata": {
        "id": "cRyvbaCvcQ4C"
      },
      "outputs": [],
      "source": [
        "from sklearn.model_selection import train_test_split"
      ]
    },
    {
      "cell_type": "code",
      "execution_count": 45,
      "metadata": {
        "id": "amFCbGlhcQ6P"
      },
      "outputs": [],
      "source": [
        "x_train,x_test,y_train,y_test=train_test_split(x,y,test_size=0.3,random_state=1)"
      ]
    },
    {
      "cell_type": "code",
      "execution_count": 46,
      "metadata": {
        "id": "ZCnXSTUHcQ9R"
      },
      "outputs": [],
      "source": [
        "x_train_new,x_test_new,y_train_new,y_test_new=train_test_split(x_new,y,test_size=0.3,random_state=1)"
      ]
    },
    {
      "cell_type": "code",
      "execution_count": 47,
      "metadata": {
        "colab": {
          "base_uri": "https://localhost:8080/"
        },
        "id": "uFFhTj78_40A",
        "outputId": "4e922d77-bc27-4c1d-e371-750fb960c107"
      },
      "outputs": [
        {
          "output_type": "execute_result",
          "data": {
            "text/plain": [
              "((8817,), (3779,))"
            ]
          },
          "metadata": {},
          "execution_count": 47
        }
      ],
      "source": [
        "x_train.shape,x_test.shape"
      ]
    },
    {
      "cell_type": "code",
      "execution_count": 48,
      "metadata": {
        "colab": {
          "base_uri": "https://localhost:8080/"
        },
        "id": "Y2mBgmYLJQH4",
        "outputId": "f3a0ad52-93d4-40b3-a90a-8ac13354d22d"
      },
      "outputs": [
        {
          "output_type": "execute_result",
          "data": {
            "text/plain": [
              "1    7381\n",
              "0    1436\n",
              "Name: Sentiment, dtype: int64"
            ]
          },
          "metadata": {},
          "execution_count": 48
        }
      ],
      "source": [
        "y_train.value_counts()"
      ]
    },
    {
      "cell_type": "code",
      "execution_count": 49,
      "metadata": {
        "colab": {
          "base_uri": "https://localhost:8080/"
        },
        "id": "VwHXZheAJii7",
        "outputId": "e868b328-ba9e-4808-bd49-aed14e36f7ed"
      },
      "outputs": [
        {
          "output_type": "execute_result",
          "data": {
            "text/plain": [
              "1    3178\n",
              "0     601\n",
              "Name: Sentiment, dtype: int64"
            ]
          },
          "metadata": {},
          "execution_count": 49
        }
      ],
      "source": [
        "y_test.value_counts()"
      ]
    },
    {
      "cell_type": "code",
      "execution_count": 50,
      "metadata": {
        "colab": {
          "base_uri": "https://localhost:8080/"
        },
        "id": "fYCbXMM9BOAp",
        "outputId": "b2d38e41-89fc-488d-9d03-07466d49476f"
      },
      "outputs": [
        {
          "output_type": "execute_result",
          "data": {
            "text/plain": [
              "((8817,), (3779,))"
            ]
          },
          "metadata": {},
          "execution_count": 50
        }
      ],
      "source": [
        "y_train.shape,y_test.shape"
      ]
    },
    {
      "cell_type": "markdown",
      "metadata": {
        "id": "rzftk9CmwFMn"
      },
      "source": [
        "\n",
        "> **2. Vectorization(Bag of Words, TF-IDF, Word2vec)**\n",
        "\n",
        "\n",
        "\n",
        "---\n",
        "\n"
      ]
    },
    {
      "cell_type": "markdown",
      "metadata": {
        "id": "L5dYnl6tBY-k"
      },
      "source": [
        "Bag of Words"
      ]
    },
    {
      "cell_type": "code",
      "execution_count": 51,
      "metadata": {
        "id": "4ETj9hv4KSXd"
      },
      "outputs": [],
      "source": [
        "from sklearn.feature_extraction.text import CountVectorizer"
      ]
    },
    {
      "cell_type": "code",
      "execution_count": 52,
      "metadata": {
        "id": "uDuiMd7OKSaX"
      },
      "outputs": [],
      "source": [
        "bow_vectorizer=CountVectorizer(stop_words='english', lowercase=False, preprocessor=None, tokenizer=None)"
      ]
    },
    {
      "cell_type": "code",
      "execution_count": 53,
      "metadata": {
        "id": "dUvm0Knsw9Mk"
      },
      "outputs": [],
      "source": [
        "bag_of_words=bow_vectorizer.fit_transform(x_train).toarray()"
      ]
    },
    {
      "cell_type": "code",
      "execution_count": 54,
      "metadata": {
        "colab": {
          "base_uri": "https://localhost:8080/"
        },
        "id": "aWtqMtDtw9Pc",
        "outputId": "f2c56f8a-1fb6-4dc6-abdb-6b53ba625ba1"
      },
      "outputs": [
        {
          "output_type": "execute_result",
          "data": {
            "text/plain": [
              "(8817, 12178)"
            ]
          },
          "metadata": {},
          "execution_count": 54
        }
      ],
      "source": [
        "bag_of_words.shape"
      ]
    },
    {
      "cell_type": "code",
      "execution_count": 55,
      "metadata": {
        "colab": {
          "base_uri": "https://localhost:8080/"
        },
        "id": "sh1VCU90w9cc",
        "outputId": "1b7509b5-b405-41ce-fdc2-ad935cf32d48"
      },
      "outputs": [
        {
          "output_type": "stream",
          "name": "stdout",
          "text": [
            "[[0 0 0 ... 0 0 0]\n",
            " [0 0 0 ... 0 0 0]\n",
            " [0 0 0 ... 0 0 0]\n",
            " ...\n",
            " [0 0 0 ... 0 0 0]\n",
            " [0 0 0 ... 0 0 0]\n",
            " [0 0 0 ... 0 0 0]]\n"
          ]
        }
      ],
      "source": [
        "print(bag_of_words)"
      ]
    },
    {
      "cell_type": "code",
      "execution_count": 55,
      "metadata": {
        "id": "PMeLpF4pw9fG"
      },
      "outputs": [],
      "source": []
    },
    {
      "cell_type": "markdown",
      "metadata": {
        "id": "SigOAoTyLohx"
      },
      "source": [
        "TF-IDF (Term Frequency–Inverse Document Frequency)"
      ]
    },
    {
      "cell_type": "code",
      "execution_count": 56,
      "metadata": {
        "id": "zQtI9-SuJsnA"
      },
      "outputs": [],
      "source": [
        "from sklearn.feature_extraction.text import TfidfVectorizer"
      ]
    },
    {
      "cell_type": "code",
      "execution_count": 57,
      "metadata": {
        "id": "za-RQXMjJsp_"
      },
      "outputs": [],
      "source": [
        "tfidf_vectorizer=TfidfVectorizer(stop_words='english', lowercase=False, preprocessor=None, tokenizer=None)"
      ]
    },
    {
      "cell_type": "code",
      "execution_count": 58,
      "metadata": {
        "id": "_CetL07TJstn"
      },
      "outputs": [],
      "source": [
        "tf_idf=tfidf_vectorizer.fit_transform(x_train)"
      ]
    },
    {
      "cell_type": "code",
      "execution_count": 59,
      "metadata": {
        "colab": {
          "base_uri": "https://localhost:8080/"
        },
        "id": "dD9toCzXJswe",
        "outputId": "e0f4d292-67bf-457c-8c51-1aeeddcfaf1d"
      },
      "outputs": [
        {
          "output_type": "execute_result",
          "data": {
            "text/plain": [
              "(8817, 12178)"
            ]
          },
          "metadata": {},
          "execution_count": 59
        }
      ],
      "source": [
        "tf_idf.shape "
      ]
    },
    {
      "cell_type": "code",
      "execution_count": 60,
      "metadata": {
        "colab": {
          "base_uri": "https://localhost:8080/"
        },
        "id": "7-I_FcuAJsze",
        "outputId": "c3798d53-ece3-4b90-e720-25ae7c0bef7f"
      },
      "outputs": [
        {
          "output_type": "stream",
          "name": "stdout",
          "text": [
            "  (0, 11861)\t0.8807501898696926\n",
            "  (0, 4726)\t0.4735811472646481\n",
            "  (1, 11753)\t0.17741675985447072\n",
            "  (1, 11356)\t0.24152410580223221\n",
            "  (1, 5960)\t0.4020366569089447\n",
            "  (1, 11111)\t0.4020366569089447\n",
            "  (1, 3530)\t0.2820275790953301\n",
            "  (1, 473)\t0.17821270059996475\n",
            "  (1, 10096)\t0.34269077009776955\n",
            "  (1, 11110)\t0.4020366569089447\n",
            "  (1, 279)\t0.3382898251715771\n",
            "  (1, 5074)\t0.2600247541846457\n",
            "  (1, 9761)\t0.1204151759725585\n",
            "  (2, 1630)\t0.4554250039465444\n",
            "  (2, 361)\t0.261536983764886\n",
            "  (2, 6427)\t0.19077214179211277\n",
            "  (2, 1691)\t0.27028955434445945\n",
            "  (2, 2969)\t0.28660637800399846\n",
            "  (2, 9976)\t0.4554250039465444\n",
            "  (2, 8463)\t0.32744703611432024\n",
            "  (2, 9795)\t0.421387761011197\n",
            "  (2, 11753)\t0.20097676957652508\n",
            "  (3, 5019)\t0.5770877924034222\n",
            "  (3, 11753)\t0.5778196706912493\n",
            "  (3, 5074)\t0.4234307343843619\n",
            "  :\t:\n",
            "  (8812, 9761)\t0.16193515213635507\n",
            "  (8813, 11945)\t0.49286219379661445\n",
            "  (8813, 11517)\t0.4147327150679607\n",
            "  (8813, 1793)\t0.43358554066390836\n",
            "  (8813, 2511)\t0.3253962110652104\n",
            "  (8813, 11322)\t0.2901785596073889\n",
            "  (8813, 2041)\t0.4549735390922403\n",
            "  (8814, 7532)\t0.4824662799881364\n",
            "  (8814, 8398)\t0.5094950883322814\n",
            "  (8814, 4779)\t0.5549525755265621\n",
            "  (8814, 5421)\t0.35060847875968865\n",
            "  (8814, 4726)\t0.2770241454782278\n",
            "  (8815, 117)\t0.6078581513840174\n",
            "  (8815, 5068)\t0.5036873544423187\n",
            "  (8815, 1535)\t0.4244785443323686\n",
            "  (8815, 5149)\t0.36829154655484947\n",
            "  (8815, 1579)\t0.24695509492337536\n",
            "  (8816, 4679)\t0.519307583874959\n",
            "  (8816, 1112)\t0.3594724459041576\n",
            "  (8816, 10620)\t0.44039756144039516\n",
            "  (8816, 8973)\t0.3541738270005326\n",
            "  (8816, 4698)\t0.22187147953563924\n",
            "  (8816, 9086)\t0.2530269245037019\n",
            "  (8816, 11322)\t0.21459945759489418\n",
            "  (8816, 361)\t0.34986794216622163\n"
          ]
        }
      ],
      "source": [
        "print(tf_idf)"
      ]
    },
    {
      "cell_type": "code",
      "execution_count": 60,
      "metadata": {
        "id": "mGtHsXI1Js2O"
      },
      "outputs": [],
      "source": []
    },
    {
      "cell_type": "code",
      "execution_count": 60,
      "metadata": {
        "id": "xmnw0wHVJs5S"
      },
      "outputs": [],
      "source": []
    },
    {
      "cell_type": "markdown",
      "metadata": {
        "id": "Dro0-3gQNZdC"
      },
      "source": [
        "Word2Vec"
      ]
    },
    {
      "cell_type": "code",
      "execution_count": 61,
      "metadata": {
        "colab": {
          "base_uri": "https://localhost:8080/"
        },
        "id": "KVHZjbVtJs8Z",
        "outputId": "9b05feb1-d84b-4642-d18c-dc673246abca"
      },
      "outputs": [
        {
          "output_type": "stream",
          "name": "stdout",
          "text": [
            "Looking in indexes: https://pypi.org/simple, https://us-python.pkg.dev/colab-wheels/public/simple/\n",
            "Requirement already satisfied: gensim in /usr/local/lib/python3.7/dist-packages (3.6.0)\n",
            "Requirement already satisfied: six>=1.5.0 in /usr/local/lib/python3.7/dist-packages (from gensim) (1.15.0)\n",
            "Requirement already satisfied: scipy>=0.18.1 in /usr/local/lib/python3.7/dist-packages (from gensim) (1.7.3)\n",
            "Requirement already satisfied: smart-open>=1.2.1 in /usr/local/lib/python3.7/dist-packages (from gensim) (5.2.1)\n",
            "Requirement already satisfied: numpy>=1.11.3 in /usr/local/lib/python3.7/dist-packages (from gensim) (1.21.6)\n"
          ]
        }
      ],
      "source": [
        "pip install gensim"
      ]
    },
    {
      "cell_type": "code",
      "execution_count": 62,
      "metadata": {
        "id": "HfThbeZFJs_G"
      },
      "outputs": [],
      "source": [
        "from gensim.models import Word2Vec"
      ]
    },
    {
      "cell_type": "code",
      "execution_count": 63,
      "metadata": {
        "id": "0b751Zp2JtB-"
      },
      "outputs": [],
      "source": [
        "word_vec=Word2Vec(sentences=x_train_new,min_count=1)"
      ]
    },
    {
      "cell_type": "code",
      "execution_count": 64,
      "metadata": {
        "id": "ocxpPr7WJtG3"
      },
      "outputs": [],
      "source": [
        "words_wrdvec=word_vec.wv.vocab"
      ]
    },
    {
      "cell_type": "code",
      "execution_count": 65,
      "metadata": {
        "id": "H8KSB0uCJtJ-"
      },
      "outputs": [],
      "source": [
        "#print(words_wrdvec)"
      ]
    },
    {
      "cell_type": "code",
      "execution_count": 65,
      "metadata": {
        "id": "QbC7a44RKSdE"
      },
      "outputs": [],
      "source": []
    },
    {
      "cell_type": "markdown",
      "metadata": {
        "id": "OsrfWA85MHOy"
      },
      "source": [
        "**Model Build**"
      ]
    },
    {
      "cell_type": "markdown",
      "metadata": {
        "id": "K8j3OOSgL-X6"
      },
      "source": [
        "Model 1: Logistic Regression"
      ]
    },
    {
      "cell_type": "code",
      "execution_count": 66,
      "metadata": {
        "id": "1Wlo3XgWcQ1M"
      },
      "outputs": [],
      "source": [
        "from sklearn.linear_model import LogisticRegression"
      ]
    },
    {
      "cell_type": "code",
      "execution_count": 67,
      "metadata": {
        "id": "j31irVX1MK9a"
      },
      "outputs": [],
      "source": [
        "lr=LogisticRegression()"
      ]
    },
    {
      "cell_type": "code",
      "execution_count": 68,
      "metadata": {
        "id": "XQJ2ywXEMLAC"
      },
      "outputs": [],
      "source": [
        "lr_bow=lr.fit(bag_of_words,y_train)"
      ]
    },
    {
      "cell_type": "code",
      "execution_count": 69,
      "metadata": {
        "id": "Eyt7dHtYN_tZ"
      },
      "outputs": [],
      "source": [
        "lr_tfidf=lr.fit(tf_idf,y_train)"
      ]
    },
    {
      "cell_type": "code",
      "execution_count": 70,
      "metadata": {
        "id": "Cmu8GTARMLCz"
      },
      "outputs": [],
      "source": [
        "#lr_word2vec=lr.fit(word_vec,y_train_new)"
      ]
    },
    {
      "cell_type": "markdown",
      "metadata": {
        "id": "j0TkUngdNNnv"
      },
      "source": [
        "Model 2: Naive Bayes"
      ]
    },
    {
      "cell_type": "code",
      "execution_count": 71,
      "metadata": {
        "id": "ra8pYnhuMLFI"
      },
      "outputs": [],
      "source": [
        "from sklearn.naive_bayes import MultinomialNB"
      ]
    },
    {
      "cell_type": "code",
      "execution_count": 72,
      "metadata": {
        "id": "Qv0L1UNCNMKn"
      },
      "outputs": [],
      "source": [
        "mnb=MultinomialNB()"
      ]
    },
    {
      "cell_type": "code",
      "execution_count": 73,
      "metadata": {
        "id": "v-VkRhXENMNX"
      },
      "outputs": [],
      "source": [
        "mnb_bow=mnb.fit(bag_of_words,y_train)"
      ]
    },
    {
      "cell_type": "code",
      "execution_count": 74,
      "metadata": {
        "id": "vZVhVv1sNMQg"
      },
      "outputs": [],
      "source": [
        "mnb_tfidf=mnb.fit(tf_idf,y_train)"
      ]
    },
    {
      "cell_type": "code",
      "execution_count": 75,
      "metadata": {
        "id": "5qvuI-SzNMS_"
      },
      "outputs": [],
      "source": [
        "#mnb_word2vec=mnb.fit(word_vec,y_train_new)"
      ]
    },
    {
      "cell_type": "code",
      "execution_count": 75,
      "metadata": {
        "id": "-CznaRuYQOXc"
      },
      "outputs": [],
      "source": []
    },
    {
      "cell_type": "markdown",
      "metadata": {
        "id": "qOCBrheDQO-z"
      },
      "source": [
        "Model 3: SVM"
      ]
    },
    {
      "cell_type": "code",
      "execution_count": 76,
      "metadata": {
        "id": "mbikAjAJQOax"
      },
      "outputs": [],
      "source": [
        "from sklearn.svm import SVC"
      ]
    },
    {
      "cell_type": "code",
      "execution_count": 77,
      "metadata": {
        "id": "y0P-uqtpQOeD"
      },
      "outputs": [],
      "source": [
        "sv=SVC()"
      ]
    },
    {
      "cell_type": "code",
      "execution_count": 145,
      "metadata": {
        "id": "nmrB-kGmQOgv"
      },
      "outputs": [],
      "source": [
        "sv_bow=sv.fit(bag_of_words,y_train)"
      ]
    },
    {
      "cell_type": "code",
      "execution_count": 79,
      "metadata": {
        "id": "r7zONbWrQOkS"
      },
      "outputs": [],
      "source": [
        "sv_tfidf=sv.fit(tf_idf,y_train)"
      ]
    },
    {
      "cell_type": "code",
      "execution_count": 80,
      "metadata": {
        "id": "SMa7S7fGRVwy"
      },
      "outputs": [],
      "source": [
        "#sv_word2vec=sv.fit(word_vec,y_train_new)"
      ]
    },
    {
      "cell_type": "code",
      "execution_count": 80,
      "metadata": {
        "id": "CEEQ8haQRldu"
      },
      "outputs": [],
      "source": []
    },
    {
      "cell_type": "markdown",
      "metadata": {
        "id": "m4a18HUrTqIm"
      },
      "source": [
        "**Models Predict**"
      ]
    },
    {
      "cell_type": "code",
      "execution_count": 81,
      "metadata": {
        "id": "Jd-7zHB4YjOA"
      },
      "outputs": [],
      "source": [
        " # Logistic Models"
      ]
    },
    {
      "cell_type": "code",
      "execution_count": 82,
      "metadata": {
        "id": "54TmuRWUTn8c"
      },
      "outputs": [],
      "source": [
        "lr_bow_pred=lr_bow.predict(bow_vectorizer.transform(x_test))"
      ]
    },
    {
      "cell_type": "code",
      "execution_count": 83,
      "metadata": {
        "id": "2FMwxDkKTn_b"
      },
      "outputs": [],
      "source": [
        "lr_tfidf_pred=lr_tfidf.predict(tfidf_vectorizer.transform(x_test))"
      ]
    },
    {
      "cell_type": "code",
      "execution_count": 84,
      "metadata": {
        "id": "qpAMoQ2OToFW"
      },
      "outputs": [],
      "source": [
        "# Naive Byes models"
      ]
    },
    {
      "cell_type": "code",
      "execution_count": 85,
      "metadata": {
        "id": "llDeJBbLToKa"
      },
      "outputs": [],
      "source": [
        "mnb_bow_pred=mnb_bow.predict(bow_vectorizer.transform(x_test))"
      ]
    },
    {
      "cell_type": "code",
      "execution_count": 86,
      "metadata": {
        "id": "HwPqjyRdToMz"
      },
      "outputs": [],
      "source": [
        "mnb_tfidf_pred=mnb_tfidf.predict(tfidf_vectorizer.transform(x_test))"
      ]
    },
    {
      "cell_type": "code",
      "execution_count": 87,
      "metadata": {
        "id": "Nv1_f95EToPn"
      },
      "outputs": [],
      "source": [
        "# SVM Models"
      ]
    },
    {
      "cell_type": "code",
      "execution_count": null,
      "metadata": {
        "id": "3huI6b9vZbSZ"
      },
      "outputs": [],
      "source": [
        "sv_bow_pred=sv_bow.predict(bow_vectorizer.transform(x_test))"
      ]
    },
    {
      "cell_type": "code",
      "execution_count": 89,
      "metadata": {
        "id": "o8N-gTsSZbVR"
      },
      "outputs": [],
      "source": [
        "sv_tfidf_pred=sv_tfidf.predict(tfidf_vectorizer.transform(x_test))"
      ]
    },
    {
      "cell_type": "code",
      "execution_count": null,
      "metadata": {
        "id": "FenQGYGcZb1S"
      },
      "outputs": [],
      "source": []
    },
    {
      "cell_type": "markdown",
      "metadata": {
        "id": "s42nhsrTJx92"
      },
      "source": [
        "\n",
        "\n",
        "> **3. ROC,Precision,Recall,Confusion Matrix**\n",
        "\n"
      ]
    },
    {
      "cell_type": "code",
      "execution_count": 90,
      "metadata": {
        "id": "5b_AuzaucRCv"
      },
      "outputs": [],
      "source": [
        "from yellowbrick.classifier import ROCAUC"
      ]
    },
    {
      "cell_type": "code",
      "execution_count": 92,
      "metadata": {
        "id": "V2Pc0JZbcRFW"
      },
      "outputs": [],
      "source": [
        "from sklearn.metrics import classification_report"
      ]
    },
    {
      "cell_type": "code",
      "execution_count": 92,
      "metadata": {
        "id": "nKu3ZHbgfTlv"
      },
      "outputs": [],
      "source": []
    },
    {
      "cell_type": "code",
      "execution_count": 93,
      "metadata": {
        "id": "RgPqXkZ7cRLC"
      },
      "outputs": [],
      "source": [
        "# Logistic Model Report"
      ]
    },
    {
      "cell_type": "code",
      "execution_count": 94,
      "metadata": {
        "colab": {
          "base_uri": "https://localhost:8080/"
        },
        "id": "DHS9FwFicRNh",
        "outputId": "35325c9b-7def-4f9c-a706-49cd47623bc6"
      },
      "outputs": [
        {
          "output_type": "stream",
          "name": "stdout",
          "text": [
            "Logistic Regression(BOW) report\n",
            "               precision    recall  f1-score   support\n",
            "\n",
            "           0       0.50      0.31      0.38       601\n",
            "           1       0.88      0.94      0.91      3178\n",
            "\n",
            "    accuracy                           0.84      3779\n",
            "   macro avg       0.69      0.63      0.64      3779\n",
            "weighted avg       0.82      0.84      0.82      3779\n",
            "\n"
          ]
        }
      ],
      "source": [
        "lr_bow_report=classification_report(y_test,lr_bow_pred)\n",
        "print(\"Logistic Regression(BOW) report\\n\",lr_bow_report)"
      ]
    },
    {
      "cell_type": "code",
      "execution_count": 95,
      "metadata": {
        "colab": {
          "base_uri": "https://localhost:8080/",
          "height": 376
        },
        "id": "k8JCqbNCgaGW",
        "outputId": "2f6d9a57-55ed-44e2-f224-319340914393"
      },
      "outputs": [
        {
          "output_type": "display_data",
          "data": {
            "text/plain": [
              "<Figure size 576x396 with 1 Axes>"
            ],
            "image/png": "[encoded data removed]"
          },
          "metadata": {}
        }
      ],
      "source": [
        "lr_bow_plt=ROCAUC(lr_bow,classes=[\"Positive\",\"Negative\"])\n",
        "lr_bow_plt.fit(bag_of_words,y_train)\n",
        "lr_bow_plt.score((bow_vectorizer.transform(x_test)),y_test)\n",
        "lr_bow_plt.show();"
      ]
    },
    {
      "cell_type": "code",
      "execution_count": 95,
      "metadata": {
        "id": "IJ_Yz8Y_iXhK"
      },
      "outputs": [],
      "source": []
    },
    {
      "cell_type": "code",
      "execution_count": 96,
      "metadata": {
        "colab": {
          "base_uri": "https://localhost:8080/"
        },
        "id": "eaVgZDeqcRQQ",
        "outputId": "31b922b3-447a-49a9-c70c-673510c482dc"
      },
      "outputs": [
        {
          "output_type": "stream",
          "name": "stdout",
          "text": [
            "Logistic Regression(TFIDF) report\n",
            "               precision    recall  f1-score   support\n",
            "\n",
            "           0       0.67      0.10      0.17       601\n",
            "           1       0.85      0.99      0.92      3178\n",
            "\n",
            "    accuracy                           0.85      3779\n",
            "   macro avg       0.76      0.55      0.55      3779\n",
            "weighted avg       0.82      0.85      0.80      3779\n",
            "\n"
          ]
        }
      ],
      "source": [
        "lr_tfidf_report=classification_report(y_test,lr_tfidf_pred)\n",
        "print(\"Logistic Regression(TFIDF) report\\n\",lr_tfidf_report)"
      ]
    },
    {
      "cell_type": "code",
      "execution_count": 97,
      "metadata": {
        "colab": {
          "base_uri": "https://localhost:8080/",
          "height": 376
        },
        "id": "o4nrGl4CiZKY",
        "outputId": "6822032e-c4db-44c6-b700-e96c35b897d5"
      },
      "outputs": [
        {
          "output_type": "display_data",
          "data": {
            "text/plain": [
              "<Figure size 576x396 with 1 Axes>"
            ],
            "image/png": "[encoded data removed]"
          },
          "metadata": {}
        }
      ],
      "source": [
        "lr_tfidf_plt=ROCAUC(lr_tfidf,classes=[\"Positive\",\"Negative\"])\n",
        "lr_tfidf_plt.fit(tf_idf,y_train)\n",
        "lr_tfidf_plt.score((tfidf_vectorizer.transform(x_test)),y_test)\n",
        "lr_tfidf_plt.show();"
      ]
    },
    {
      "cell_type": "code",
      "execution_count": 97,
      "metadata": {
        "id": "Caefgqb7cRTQ"
      },
      "outputs": [],
      "source": []
    },
    {
      "cell_type": "code",
      "execution_count": 98,
      "metadata": {
        "id": "9y75c3BNcRV_"
      },
      "outputs": [],
      "source": [
        "# Naive Bayes Model Report"
      ]
    },
    {
      "cell_type": "code",
      "execution_count": 99,
      "metadata": {
        "colab": {
          "base_uri": "https://localhost:8080/"
        },
        "id": "STtF4I9bcRYg",
        "outputId": "f3274b27-4b25-4bc9-9505-c88401be1acf"
      },
      "outputs": [
        {
          "output_type": "stream",
          "name": "stdout",
          "text": [
            "Multinomial Naive Bayes(BOW) report\n",
            "               precision    recall  f1-score   support\n",
            "\n",
            "           0       0.75      0.07      0.12       601\n",
            "           1       0.85      1.00      0.92      3178\n",
            "\n",
            "    accuracy                           0.85      3779\n",
            "   macro avg       0.80      0.53      0.52      3779\n",
            "weighted avg       0.83      0.85      0.79      3779\n",
            "\n"
          ]
        }
      ],
      "source": [
        "mnb_bow_report=classification_report(y_test,mnb_bow_pred)\n",
        "print(\"Multinomial Naive Bayes(BOW) report\\n\",mnb_bow_report)"
      ]
    },
    {
      "cell_type": "code",
      "execution_count": 100,
      "metadata": {
        "colab": {
          "base_uri": "https://localhost:8080/",
          "height": 376
        },
        "id": "KoPfdkHoizux",
        "outputId": "04a4323f-8f32-46aa-d885-14435b394fa5"
      },
      "outputs": [
        {
          "output_type": "display_data",
          "data": {
            "text/plain": [
              "<Figure size 576x396 with 1 Axes>"
            ],
            "image/png": "[encoded data removed]"
          },
          "metadata": {}
        }
      ],
      "source": [
        "mnb_bow_plt=ROCAUC(mnb_bow,classes=[\"Positive\",\"Negative\"])\n",
        "mnb_bow_plt.fit(bag_of_words,y_train)\n",
        "mnb_bow_plt.score((bow_vectorizer.transform(x_test)),y_test)\n",
        "mnb_bow_plt.show();"
      ]
    },
    {
      "cell_type": "code",
      "execution_count": 100,
      "metadata": {
        "id": "aCW9lRrJizxT"
      },
      "outputs": [],
      "source": []
    },
    {
      "cell_type": "code",
      "execution_count": 101,
      "metadata": {
        "colab": {
          "base_uri": "https://localhost:8080/"
        },
        "id": "Rx0g0IzqcRbT",
        "outputId": "528d0697-285c-4e34-adc4-6b62964dba81"
      },
      "outputs": [
        {
          "output_type": "stream",
          "name": "stdout",
          "text": [
            "Multinomial Naive Bayes(TFIDF) report\n",
            "               precision    recall  f1-score   support\n",
            "\n",
            "           0       1.00      0.01      0.02       601\n",
            "           1       0.84      1.00      0.91      3178\n",
            "\n",
            "    accuracy                           0.84      3779\n",
            "   macro avg       0.92      0.50      0.47      3779\n",
            "weighted avg       0.87      0.84      0.77      3779\n",
            "\n"
          ]
        }
      ],
      "source": [
        "mnb_tfidf_report=classification_report(y_test,mnb_tfidf_pred)\n",
        "print(\"Multinomial Naive Bayes(TFIDF) report\\n\",mnb_tfidf_report)"
      ]
    },
    {
      "cell_type": "code",
      "execution_count": 102,
      "metadata": {
        "colab": {
          "base_uri": "https://localhost:8080/",
          "height": 376
        },
        "id": "YVuBgv2WcReC",
        "outputId": "fd0deb61-de08-4fcc-8893-326de3195593"
      },
      "outputs": [
        {
          "output_type": "display_data",
          "data": {
            "text/plain": [
              "<Figure size 576x396 with 1 Axes>"
            ],
            "image/png": "[encoded data removed]"
          },
          "metadata": {}
        }
      ],
      "source": [
        "mnb_tfidf_plt=ROCAUC(mnb_tfidf,classes=[\"Positive\",\"Negative\"])\n",
        "mnb_tfidf_plt.fit(tf_idf,y_train)\n",
        "mnb_tfidf_plt.score((tfidf_vectorizer.transform(x_test)),y_test)\n",
        "mnb_tfidf_plt.show();"
      ]
    },
    {
      "cell_type": "code",
      "execution_count": 102,
      "metadata": {
        "id": "hWfIlEZHj-kP"
      },
      "outputs": [],
      "source": []
    },
    {
      "cell_type": "code",
      "execution_count": 103,
      "metadata": {
        "id": "3HK7MRH7cRgp"
      },
      "outputs": [],
      "source": [
        "# SVM Model Report"
      ]
    },
    {
      "cell_type": "code",
      "execution_count": null,
      "metadata": {
        "id": "foNkQaHAcRmA"
      },
      "outputs": [],
      "source": [
        "sv_bow_report=classification_report(y_test,sv_bow_pred)\n",
        "print(\"SVM (BOW) report\\n\",sv_bow_report)"
      ]
    },
    {
      "cell_type": "code",
      "execution_count": null,
      "metadata": {
        "id": "swn487i6kr0_"
      },
      "outputs": [],
      "source": []
    },
    {
      "cell_type": "code",
      "execution_count": 106,
      "metadata": {
        "colab": {
          "base_uri": "https://localhost:8080/"
        },
        "id": "bha7AGt6cRom",
        "outputId": "932590dd-2836-4a88-9720-f71874f1e1e0"
      },
      "outputs": [
        {
          "output_type": "stream",
          "name": "stdout",
          "text": [
            "SVM (TFIDF) report\n",
            "               precision    recall  f1-score   support\n",
            "\n",
            "           0       0.75      0.07      0.14       601\n",
            "           1       0.85      1.00      0.92      3178\n",
            "\n",
            "    accuracy                           0.85      3779\n",
            "   macro avg       0.80      0.54      0.53      3779\n",
            "weighted avg       0.83      0.85      0.79      3779\n",
            "\n"
          ]
        }
      ],
      "source": [
        "sv_tfidf_report=classification_report(y_test,sv_tfidf_pred)\n",
        "print(\"SVM (TFIDF) report\\n\",sv_tfidf_report)"
      ]
    },
    {
      "cell_type": "code",
      "execution_count": null,
      "metadata": {
        "id": "LylQgjI6f9fM"
      },
      "outputs": [],
      "source": []
    },
    {
      "cell_type": "code",
      "execution_count": null,
      "metadata": {
        "id": "RmAFG7_If9id"
      },
      "outputs": [],
      "source": []
    },
    {
      "cell_type": "markdown",
      "metadata": {
        "id": "pE5BpSqmlanH"
      },
      "source": [
        "**5. RandomizedSearchCV on the Models**"
      ]
    },
    {
      "cell_type": "code",
      "execution_count": 107,
      "metadata": {
        "id": "43Q29ugmLEhP"
      },
      "outputs": [],
      "source": [
        "from sklearn.model_selection import RandomizedSearchCV"
      ]
    },
    {
      "cell_type": "code",
      "execution_count": 108,
      "metadata": {
        "id": "jev4vKfvlZ_M"
      },
      "outputs": [],
      "source": [
        "# Logistic Regression Model"
      ]
    },
    {
      "cell_type": "code",
      "execution_count": 133,
      "metadata": {
        "id": "ZhAAnuqRlmME"
      },
      "outputs": [],
      "source": [
        "lr_param=[\n",
        "    {\n",
        "         'C':[1,5,10,20],\n",
        "          'solver':['newton-cg','liblinear','sag']\n",
        "    }\n",
        "]"
      ]
    },
    {
      "cell_type": "code",
      "execution_count": 134,
      "metadata": {
        "id": "-n_YzDbnlmPA"
      },
      "outputs": [],
      "source": [
        "classifier1=RandomizedSearchCV(lr,lr_param,cv=5)"
      ]
    },
    {
      "cell_type": "code",
      "execution_count": null,
      "metadata": {
        "id": "bG3mEZhMlmVS"
      },
      "outputs": [],
      "source": [
        "#classifier1.fit(bag_of_words,y_train)   # takes lot time"
      ]
    },
    {
      "cell_type": "code",
      "execution_count": null,
      "metadata": {
        "id": "bnoPVHAllmYn"
      },
      "outputs": [],
      "source": [
        "#classifier1.cv_results_"
      ]
    },
    {
      "cell_type": "code",
      "execution_count": null,
      "metadata": {
        "id": "vgMQLm_Dlmar"
      },
      "outputs": [],
      "source": [
        "# best parameters\n",
        "\n",
        "#best_parameters = classifier1.best_params_\n",
        "#print(best_parameters)"
      ]
    },
    {
      "cell_type": "code",
      "execution_count": null,
      "metadata": {
        "id": "6a2S7iiKlmdr"
      },
      "outputs": [],
      "source": [
        "# higest accuracy\n",
        "\n",
        "#highest_accuracy = classifier1.best_score_\n",
        "#print(highest_accuracy)"
      ]
    },
    {
      "cell_type": "code",
      "execution_count": null,
      "metadata": {
        "id": "DLUcGg_elmgE"
      },
      "outputs": [],
      "source": []
    },
    {
      "cell_type": "code",
      "execution_count": null,
      "metadata": {
        "id": "N0G9BZtdf9lf"
      },
      "outputs": [],
      "source": [
        "classifier1.fit(tf_idf,y_train)"
      ]
    },
    {
      "cell_type": "code",
      "execution_count": 137,
      "metadata": {
        "colab": {
          "base_uri": "https://localhost:8080/"
        },
        "id": "aq8pn6TmRHKw",
        "outputId": "38c331aa-0fdd-450d-98b8-97cc10029aea"
      },
      "outputs": [
        {
          "output_type": "execute_result",
          "data": {
            "text/plain": [
              "{'mean_fit_time': array([2.17080021e-01, 1.59606934e-03, 1.59940720e-03, 1.48444176e-03,\n",
              "        6.42663374e+00, 1.16486549e-03, 4.24936771e-02, 1.41506195e-03,\n",
              "        7.06686020e-02, 1.20081902e-03]),\n",
              " 'std_fit_time': array([3.90294794e-02, 9.72349890e-05, 1.77057002e-04, 6.72560176e-06,\n",
              "        7.79154361e+00, 1.35641139e-04, 4.85250556e-03, 4.80009953e-04,\n",
              "        2.41467679e-03, 1.68511418e-04]),\n",
              " 'mean_score_time': array([0.00172005, 0.        , 0.        , 0.        , 0.00132279,\n",
              "        0.        , 0.00082512, 0.        , 0.00089197, 0.        ]),\n",
              " 'std_score_time': array([1.09989790e-03, 0.00000000e+00, 0.00000000e+00, 0.00000000e+00,\n",
              "        5.63613904e-04, 0.00000000e+00, 1.82282815e-05, 0.00000000e+00,\n",
              "        9.09421598e-05, 0.00000000e+00]),\n",
              " 'param_solver': masked_array(data=['newton-cg', 'sag', 'newton-cg', 'newton-cg',\n",
              "                    'liblinear', 'sag', 'sag', 'sag', 'sag', 'sag'],\n",
              "              mask=[False, False, False, False, False, False, False, False,\n",
              "                    False, False],\n",
              "        fill_value='?',\n",
              "             dtype=object),\n",
              " 'param_penalty': masked_array(data=['l2', 'l1', 'l1', 'l1', 'l1', 'l1', 'l2', 'l1', 'l2',\n",
              "                    'l1'],\n",
              "              mask=[False, False, False, False, False, False, False, False,\n",
              "                    False, False],\n",
              "        fill_value='?',\n",
              "             dtype=object),\n",
              " 'param_C': masked_array(data=[10, 5, 20, 5, 10, 20, 1, 1, 10, 10],\n",
              "              mask=[False, False, False, False, False, False, False, False,\n",
              "                    False, False],\n",
              "        fill_value='?',\n",
              "             dtype=object),\n",
              " 'params': [{'solver': 'newton-cg', 'penalty': 'l2', 'C': 10},\n",
              "  {'solver': 'sag', 'penalty': 'l1', 'C': 5},\n",
              "  {'solver': 'newton-cg', 'penalty': 'l1', 'C': 20},\n",
              "  {'solver': 'newton-cg', 'penalty': 'l1', 'C': 5},\n",
              "  {'solver': 'liblinear', 'penalty': 'l1', 'C': 10},\n",
              "  {'solver': 'sag', 'penalty': 'l1', 'C': 20},\n",
              "  {'solver': 'sag', 'penalty': 'l2', 'C': 1},\n",
              "  {'solver': 'sag', 'penalty': 'l1', 'C': 1},\n",
              "  {'solver': 'sag', 'penalty': 'l2', 'C': 10},\n",
              "  {'solver': 'sag', 'penalty': 'l1', 'C': 10}],\n",
              " 'split0_test_score': array([0.84070295,        nan,        nan,        nan, 0.83843537,\n",
              "               nan, 0.84013605,        nan, 0.84070295,        nan]),\n",
              " 'split1_test_score': array([0.84750567,        nan,        nan,        nan, 0.83560091,\n",
              "               nan, 0.84070295,        nan, 0.84750567,        nan]),\n",
              " 'split2_test_score': array([0.85082246,        nan,        nan,        nan, 0.83437323,\n",
              "               nan, 0.84061259,        nan, 0.85082246,        nan]),\n",
              " 'split3_test_score': array([0.84004538,        nan,        nan,        nan, 0.83437323,\n",
              "               nan, 0.84117981,        nan, 0.84004538,        nan]),\n",
              " 'split4_test_score': array([0.8445831 ,        nan,        nan,        nan, 0.8332388 ,\n",
              "               nan, 0.84288145,        nan, 0.8445831 ,        nan]),\n",
              " 'mean_test_score': array([0.84473191,        nan,        nan,        nan, 0.83520431,\n",
              "               nan, 0.84110257,        nan, 0.84473191,        nan]),\n",
              " 'std_test_score': array([0.00407448,        nan,        nan,        nan, 0.00177998,\n",
              "               nan, 0.00094914,        nan, 0.00407448,        nan]),\n",
              " 'rank_test_score': array([ 1,  5,  6,  7,  4,  8,  3,  9,  1, 10], dtype=int32)}"
            ]
          },
          "metadata": {},
          "execution_count": 137
        }
      ],
      "source": [
        "classifier1.cv_results_"
      ]
    },
    {
      "cell_type": "code",
      "execution_count": 138,
      "metadata": {
        "colab": {
          "base_uri": "https://localhost:8080/"
        },
        "id": "N9smFMFlRHNp",
        "outputId": "026d19ee-3dcf-4bca-b84a-b9ab76c22f5e"
      },
      "outputs": [
        {
          "output_type": "stream",
          "name": "stdout",
          "text": [
            "{'solver': 'newton-cg', 'penalty': 'l2', 'C': 10}\n"
          ]
        }
      ],
      "source": [
        "# best parameters\n",
        "\n",
        "best_parameters = classifier1.best_params_\n",
        "print(best_parameters)"
      ]
    },
    {
      "cell_type": "code",
      "execution_count": 139,
      "metadata": {
        "colab": {
          "base_uri": "https://localhost:8080/"
        },
        "id": "mnOVkRgyRHQf",
        "outputId": "9b30c4b4-5da7-4969-fb53-9f87b65d8611"
      },
      "outputs": [
        {
          "output_type": "stream",
          "name": "stdout",
          "text": [
            "0.8447319105369507\n"
          ]
        }
      ],
      "source": [
        "# higest accuracy\n",
        "\n",
        "highest_accuracy = classifier1.best_score_\n",
        "print(highest_accuracy)"
      ]
    },
    {
      "cell_type": "code",
      "execution_count": null,
      "metadata": {
        "id": "Yj0Tp5xsRHV9"
      },
      "outputs": [],
      "source": []
    },
    {
      "cell_type": "code",
      "execution_count": null,
      "metadata": {
        "id": "s236fh8yRHcI"
      },
      "outputs": [],
      "source": [
        "# SVM Model"
      ]
    },
    {
      "cell_type": "code",
      "execution_count": 125,
      "metadata": {
        "id": "XcZ80KINRHfq"
      },
      "outputs": [],
      "source": [
        "sv_param= {\n",
        "              'kernel':['linear','poly','rbf'],\n",
        "              'C':[1, 5]\n",
        "}"
      ]
    },
    {
      "cell_type": "code",
      "execution_count": 126,
      "metadata": {
        "id": "u4lKWIaDRHim"
      },
      "outputs": [],
      "source": [
        "classifier3=RandomizedSearchCV(sv,sv_param,cv=5)"
      ]
    },
    {
      "cell_type": "code",
      "execution_count": null,
      "metadata": {
        "id": "aFm2UxvZf9th"
      },
      "outputs": [],
      "source": [
        "# classifier3.fit(bag_of_words,y_train)         # takes 1.5 hours of execusion time"
      ]
    },
    {
      "cell_type": "code",
      "execution_count": null,
      "metadata": {
        "id": "VzhhLjoZf9wW"
      },
      "outputs": [],
      "source": [
        "#classifier3.cv_results_"
      ]
    },
    {
      "cell_type": "code",
      "execution_count": null,
      "metadata": {
        "id": "c8fK_bo-f9zC"
      },
      "outputs": [],
      "source": [
        "# best parameters\n",
        "\n",
        "#best_parameters = classifier3.best_params_\n",
        "#print(best_parameters)"
      ]
    },
    {
      "cell_type": "code",
      "execution_count": null,
      "metadata": {
        "id": "N9CIXtERR2QP"
      },
      "outputs": [],
      "source": [
        "# higest accuracy\n",
        "\n",
        "#highest_accuracy = classifier3.best_score_\n",
        "#print(highest_accuracy)"
      ]
    },
    {
      "cell_type": "code",
      "source": [],
      "metadata": {
        "id": "a4bOJxH7NeJU"
      },
      "execution_count": null,
      "outputs": []
    },
    {
      "cell_type": "code",
      "source": [
        "classifier3.fit(tf_idf,y_train)"
      ],
      "metadata": {
        "colab": {
          "base_uri": "https://localhost:8080/"
        },
        "id": "mTFIyLv5NeNM",
        "outputId": "481ab042-3cad-4d94-91b3-80a7bc15bb70"
      },
      "execution_count": 140,
      "outputs": [
        {
          "output_type": "stream",
          "name": "stderr",
          "text": [
            "/usr/local/lib/python3.7/dist-packages/sklearn/model_selection/_search.py:296: UserWarning: The total space of parameters 6 is smaller than n_iter=10. Running 6 iterations. For exhaustive searches, use GridSearchCV.\n",
            "  UserWarning,\n"
          ]
        },
        {
          "output_type": "execute_result",
          "data": {
            "text/plain": [
              "RandomizedSearchCV(cv=5, estimator=SVC(),\n",
              "                   param_distributions={'C': [1, 5],\n",
              "                                        'kernel': ['linear', 'poly', 'rbf']})"
            ]
          },
          "metadata": {},
          "execution_count": 140
        }
      ]
    },
    {
      "cell_type": "code",
      "source": [
        "classifier3.cv_results_"
      ],
      "metadata": {
        "colab": {
          "base_uri": "https://localhost:8080/"
        },
        "id": "RILC-QOUNeQb",
        "outputId": "07fb8db3-8d1e-4041-ce25-12005dfcf599"
      },
      "execution_count": 141,
      "outputs": [
        {
          "output_type": "execute_result",
          "data": {
            "text/plain": [
              "{'mean_fit_time': array([2.84542017, 5.47633061, 5.62358923, 3.73190975, 5.08537197,\n",
              "        7.50898223]),\n",
              " 'std_fit_time': array([0.14866234, 0.73106951, 0.52226063, 0.57423868, 0.51598068,\n",
              "        1.11012393]),\n",
              " 'mean_score_time': array([0.48252869, 1.0562768 , 0.97562594, 0.49968572, 0.96396141,\n",
              "        1.50000677]),\n",
              " 'std_score_time': array([0.00756168, 0.06262069, 0.07206544, 0.0295085 , 0.1395097 ,\n",
              "        0.45134333]),\n",
              " 'param_kernel': masked_array(data=['linear', 'poly', 'rbf', 'linear', 'poly', 'rbf'],\n",
              "              mask=[False, False, False, False, False, False],\n",
              "        fill_value='?',\n",
              "             dtype=object),\n",
              " 'param_C': masked_array(data=[1, 1, 1, 5, 5, 5],\n",
              "              mask=[False, False, False, False, False, False],\n",
              "        fill_value='?',\n",
              "             dtype=object),\n",
              " 'params': [{'kernel': 'linear', 'C': 1},\n",
              "  {'kernel': 'poly', 'C': 1},\n",
              "  {'kernel': 'rbf', 'C': 1},\n",
              "  {'kernel': 'linear', 'C': 5},\n",
              "  {'kernel': 'poly', 'C': 5},\n",
              "  {'kernel': 'rbf', 'C': 5}],\n",
              " 'split0_test_score': array([0.84353741, 0.83730159, 0.83900227, 0.83276644, 0.83333333,\n",
              "        0.84013605]),\n",
              " 'split1_test_score': array([0.84183673, 0.83730159, 0.83843537, 0.83106576, 0.83673469,\n",
              "        0.84240363]),\n",
              " 'split2_test_score': array([0.84288145, 0.8372093 , 0.83891095, 0.83437323, 0.83607487,\n",
              "        0.84571753]),\n",
              " 'split3_test_score': array([0.84515031, 0.83891095, 0.84117981, 0.83153715, 0.84004538,\n",
              "        0.84571753]),\n",
              " 'split4_test_score': array([0.84798639, 0.83607487, 0.84117981, 0.83210437, 0.83607487,\n",
              "        0.84741917]),\n",
              " 'mean_test_score': array([0.84427846, 0.83735966, 0.83974164, 0.83236939, 0.83645263,\n",
              "        0.84427878]),\n",
              " 'std_test_score': array([0.00214344, 0.00090405, 0.00118993, 0.00115198, 0.00214489,\n",
              "        0.00263364]),\n",
              " 'rank_test_score': array([2, 4, 3, 6, 5, 1], dtype=int32)}"
            ]
          },
          "metadata": {},
          "execution_count": 141
        }
      ]
    },
    {
      "cell_type": "code",
      "source": [
        " #best parameters\n",
        "\n",
        "best_parameters = classifier3.best_params_\n",
        "print(best_parameters)"
      ],
      "metadata": {
        "colab": {
          "base_uri": "https://localhost:8080/"
        },
        "id": "vGOvO5TxNeTn",
        "outputId": "22898f88-ef48-4797-87a7-dcc0fec0216e"
      },
      "execution_count": 143,
      "outputs": [
        {
          "output_type": "stream",
          "name": "stdout",
          "text": [
            "{'kernel': 'rbf', 'C': 5}\n"
          ]
        }
      ]
    },
    {
      "cell_type": "code",
      "source": [
        "# higest accuracy\n",
        "\n",
        "highest_accuracy = classifier3.best_score_\n",
        "print(highest_accuracy)"
      ],
      "metadata": {
        "colab": {
          "base_uri": "https://localhost:8080/"
        },
        "id": "0kG9UaKBNeXx",
        "outputId": "ae5f4e3b-527b-4fa5-80b3-62f4be5677fa"
      },
      "execution_count": 144,
      "outputs": [
        {
          "output_type": "stream",
          "name": "stdout",
          "text": [
            "0.8442787816582484\n"
          ]
        }
      ]
    },
    {
      "cell_type": "code",
      "source": [],
      "metadata": {
        "id": "ofj8v-woNeba"
      },
      "execution_count": null,
      "outputs": []
    },
    {
      "cell_type": "code",
      "source": [],
      "metadata": {
        "id": "eLg8Z-4rNeiG"
      },
      "execution_count": null,
      "outputs": []
    }
  ],
  "metadata": {
    "colab": {
      "collapsed_sections": [],
      "provenance": [],
      "toc_visible": true
    },
    "kernelspec": {
      "display_name": "Python 3",
      "name": "python3"
    },
    "language_info": {
      "name": "python"
    }
  },
  "nbformat": 4,
  "nbformat_minor": 0
}